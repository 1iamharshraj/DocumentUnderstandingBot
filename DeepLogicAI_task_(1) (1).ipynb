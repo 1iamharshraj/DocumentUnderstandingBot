{
  "nbformat": 4,
  "nbformat_minor": 0,
  "metadata": {
    "colab": {
      "provenance": [],
      "gpuType": "T4"
    },
    "kernelspec": {
      "name": "python3",
      "display_name": "Python 3"
    },
    "language_info": {
      "name": "python"
    },
    "accelerator": "GPU",
    "widgets": {
      "application/vnd.jupyter.widget-state+json": {
        "4688576d134d4401bf4a79a815b4cade": {
          "model_module": "@jupyter-widgets/controls",
          "model_name": "HBoxModel",
          "model_module_version": "1.5.0",
          "state": {
            "_dom_classes": [],
            "_model_module": "@jupyter-widgets/controls",
            "_model_module_version": "1.5.0",
            "_model_name": "HBoxModel",
            "_view_count": null,
            "_view_module": "@jupyter-widgets/controls",
            "_view_module_version": "1.5.0",
            "_view_name": "HBoxView",
            "box_style": "",
            "children": [
              "IPY_MODEL_c21f3c7e4b3d4c639e5f579b9987e305",
              "IPY_MODEL_12ca7570686545c09942aa9e0db786c6",
              "IPY_MODEL_26a4f8d05310497e9c00b8e0eb84caaf"
            ],
            "layout": "IPY_MODEL_64c92421e15b41e7adef9bee66003516"
          }
        },
        "c21f3c7e4b3d4c639e5f579b9987e305": {
          "model_module": "@jupyter-widgets/controls",
          "model_name": "HTMLModel",
          "model_module_version": "1.5.0",
          "state": {
            "_dom_classes": [],
            "_model_module": "@jupyter-widgets/controls",
            "_model_module_version": "1.5.0",
            "_model_name": "HTMLModel",
            "_view_count": null,
            "_view_module": "@jupyter-widgets/controls",
            "_view_module_version": "1.5.0",
            "_view_name": "HTMLView",
            "description": "",
            "description_tooltip": null,
            "layout": "IPY_MODEL_addb5732ec4f423e9ce8775efa69e469",
            "placeholder": "​",
            "style": "IPY_MODEL_f926b2fda1cb4fc9a601a44627436938",
            "value": "Loading checkpoint shards: 100%"
          }
        },
        "12ca7570686545c09942aa9e0db786c6": {
          "model_module": "@jupyter-widgets/controls",
          "model_name": "FloatProgressModel",
          "model_module_version": "1.5.0",
          "state": {
            "_dom_classes": [],
            "_model_module": "@jupyter-widgets/controls",
            "_model_module_version": "1.5.0",
            "_model_name": "FloatProgressModel",
            "_view_count": null,
            "_view_module": "@jupyter-widgets/controls",
            "_view_module_version": "1.5.0",
            "_view_name": "ProgressView",
            "bar_style": "success",
            "description": "",
            "description_tooltip": null,
            "layout": "IPY_MODEL_696441d8d5f14af6a90e2a4a0c09b7c8",
            "max": 2,
            "min": 0,
            "orientation": "horizontal",
            "style": "IPY_MODEL_205803052b2645ac8e9b270942e21b1a",
            "value": 2
          }
        },
        "26a4f8d05310497e9c00b8e0eb84caaf": {
          "model_module": "@jupyter-widgets/controls",
          "model_name": "HTMLModel",
          "model_module_version": "1.5.0",
          "state": {
            "_dom_classes": [],
            "_model_module": "@jupyter-widgets/controls",
            "_model_module_version": "1.5.0",
            "_model_name": "HTMLModel",
            "_view_count": null,
            "_view_module": "@jupyter-widgets/controls",
            "_view_module_version": "1.5.0",
            "_view_name": "HTMLView",
            "description": "",
            "description_tooltip": null,
            "layout": "IPY_MODEL_b835ef79228341588750f656d8e760aa",
            "placeholder": "​",
            "style": "IPY_MODEL_41d0dc09f61c47f6b83a04580757aa98",
            "value": " 2/2 [00:45&lt;00:00, 21.54s/it]"
          }
        },
        "64c92421e15b41e7adef9bee66003516": {
          "model_module": "@jupyter-widgets/base",
          "model_name": "LayoutModel",
          "model_module_version": "1.2.0",
          "state": {
            "_model_module": "@jupyter-widgets/base",
            "_model_module_version": "1.2.0",
            "_model_name": "LayoutModel",
            "_view_count": null,
            "_view_module": "@jupyter-widgets/base",
            "_view_module_version": "1.2.0",
            "_view_name": "LayoutView",
            "align_content": null,
            "align_items": null,
            "align_self": null,
            "border": null,
            "bottom": null,
            "display": null,
            "flex": null,
            "flex_flow": null,
            "grid_area": null,
            "grid_auto_columns": null,
            "grid_auto_flow": null,
            "grid_auto_rows": null,
            "grid_column": null,
            "grid_gap": null,
            "grid_row": null,
            "grid_template_areas": null,
            "grid_template_columns": null,
            "grid_template_rows": null,
            "height": null,
            "justify_content": null,
            "justify_items": null,
            "left": null,
            "margin": null,
            "max_height": null,
            "max_width": null,
            "min_height": null,
            "min_width": null,
            "object_fit": null,
            "object_position": null,
            "order": null,
            "overflow": null,
            "overflow_x": null,
            "overflow_y": null,
            "padding": null,
            "right": null,
            "top": null,
            "visibility": null,
            "width": null
          }
        },
        "addb5732ec4f423e9ce8775efa69e469": {
          "model_module": "@jupyter-widgets/base",
          "model_name": "LayoutModel",
          "model_module_version": "1.2.0",
          "state": {
            "_model_module": "@jupyter-widgets/base",
            "_model_module_version": "1.2.0",
            "_model_name": "LayoutModel",
            "_view_count": null,
            "_view_module": "@jupyter-widgets/base",
            "_view_module_version": "1.2.0",
            "_view_name": "LayoutView",
            "align_content": null,
            "align_items": null,
            "align_self": null,
            "border": null,
            "bottom": null,
            "display": null,
            "flex": null,
            "flex_flow": null,
            "grid_area": null,
            "grid_auto_columns": null,
            "grid_auto_flow": null,
            "grid_auto_rows": null,
            "grid_column": null,
            "grid_gap": null,
            "grid_row": null,
            "grid_template_areas": null,
            "grid_template_columns": null,
            "grid_template_rows": null,
            "height": null,
            "justify_content": null,
            "justify_items": null,
            "left": null,
            "margin": null,
            "max_height": null,
            "max_width": null,
            "min_height": null,
            "min_width": null,
            "object_fit": null,
            "object_position": null,
            "order": null,
            "overflow": null,
            "overflow_x": null,
            "overflow_y": null,
            "padding": null,
            "right": null,
            "top": null,
            "visibility": null,
            "width": null
          }
        },
        "f926b2fda1cb4fc9a601a44627436938": {
          "model_module": "@jupyter-widgets/controls",
          "model_name": "DescriptionStyleModel",
          "model_module_version": "1.5.0",
          "state": {
            "_model_module": "@jupyter-widgets/controls",
            "_model_module_version": "1.5.0",
            "_model_name": "DescriptionStyleModel",
            "_view_count": null,
            "_view_module": "@jupyter-widgets/base",
            "_view_module_version": "1.2.0",
            "_view_name": "StyleView",
            "description_width": ""
          }
        },
        "696441d8d5f14af6a90e2a4a0c09b7c8": {
          "model_module": "@jupyter-widgets/base",
          "model_name": "LayoutModel",
          "model_module_version": "1.2.0",
          "state": {
            "_model_module": "@jupyter-widgets/base",
            "_model_module_version": "1.2.0",
            "_model_name": "LayoutModel",
            "_view_count": null,
            "_view_module": "@jupyter-widgets/base",
            "_view_module_version": "1.2.0",
            "_view_name": "LayoutView",
            "align_content": null,
            "align_items": null,
            "align_self": null,
            "border": null,
            "bottom": null,
            "display": null,
            "flex": null,
            "flex_flow": null,
            "grid_area": null,
            "grid_auto_columns": null,
            "grid_auto_flow": null,
            "grid_auto_rows": null,
            "grid_column": null,
            "grid_gap": null,
            "grid_row": null,
            "grid_template_areas": null,
            "grid_template_columns": null,
            "grid_template_rows": null,
            "height": null,
            "justify_content": null,
            "justify_items": null,
            "left": null,
            "margin": null,
            "max_height": null,
            "max_width": null,
            "min_height": null,
            "min_width": null,
            "object_fit": null,
            "object_position": null,
            "order": null,
            "overflow": null,
            "overflow_x": null,
            "overflow_y": null,
            "padding": null,
            "right": null,
            "top": null,
            "visibility": null,
            "width": null
          }
        },
        "205803052b2645ac8e9b270942e21b1a": {
          "model_module": "@jupyter-widgets/controls",
          "model_name": "ProgressStyleModel",
          "model_module_version": "1.5.0",
          "state": {
            "_model_module": "@jupyter-widgets/controls",
            "_model_module_version": "1.5.0",
            "_model_name": "ProgressStyleModel",
            "_view_count": null,
            "_view_module": "@jupyter-widgets/base",
            "_view_module_version": "1.2.0",
            "_view_name": "StyleView",
            "bar_color": null,
            "description_width": ""
          }
        },
        "b835ef79228341588750f656d8e760aa": {
          "model_module": "@jupyter-widgets/base",
          "model_name": "LayoutModel",
          "model_module_version": "1.2.0",
          "state": {
            "_model_module": "@jupyter-widgets/base",
            "_model_module_version": "1.2.0",
            "_model_name": "LayoutModel",
            "_view_count": null,
            "_view_module": "@jupyter-widgets/base",
            "_view_module_version": "1.2.0",
            "_view_name": "LayoutView",
            "align_content": null,
            "align_items": null,
            "align_self": null,
            "border": null,
            "bottom": null,
            "display": null,
            "flex": null,
            "flex_flow": null,
            "grid_area": null,
            "grid_auto_columns": null,
            "grid_auto_flow": null,
            "grid_auto_rows": null,
            "grid_column": null,
            "grid_gap": null,
            "grid_row": null,
            "grid_template_areas": null,
            "grid_template_columns": null,
            "grid_template_rows": null,
            "height": null,
            "justify_content": null,
            "justify_items": null,
            "left": null,
            "margin": null,
            "max_height": null,
            "max_width": null,
            "min_height": null,
            "min_width": null,
            "object_fit": null,
            "object_position": null,
            "order": null,
            "overflow": null,
            "overflow_x": null,
            "overflow_y": null,
            "padding": null,
            "right": null,
            "top": null,
            "visibility": null,
            "width": null
          }
        },
        "41d0dc09f61c47f6b83a04580757aa98": {
          "model_module": "@jupyter-widgets/controls",
          "model_name": "DescriptionStyleModel",
          "model_module_version": "1.5.0",
          "state": {
            "_model_module": "@jupyter-widgets/controls",
            "_model_module_version": "1.5.0",
            "_model_name": "DescriptionStyleModel",
            "_view_count": null,
            "_view_module": "@jupyter-widgets/base",
            "_view_module_version": "1.2.0",
            "_view_name": "StyleView",
            "description_width": ""
          }
        },
        "540cc94e59ef4201b99029ffbf08ebe7": {
          "model_module": "@jupyter-widgets/controls",
          "model_name": "HBoxModel",
          "model_module_version": "1.5.0",
          "state": {
            "_dom_classes": [],
            "_model_module": "@jupyter-widgets/controls",
            "_model_module_version": "1.5.0",
            "_model_name": "HBoxModel",
            "_view_count": null,
            "_view_module": "@jupyter-widgets/controls",
            "_view_module_version": "1.5.0",
            "_view_name": "HBoxView",
            "box_style": "",
            "children": [
              "IPY_MODEL_5d6290e4db5c4caa9b5d119421bcee4c",
              "IPY_MODEL_4d814a5e5fe9403e80d46e21e4e3debd",
              "IPY_MODEL_5493fafada634e5cab3a750ccc0f2a97"
            ],
            "layout": "IPY_MODEL_c58d838309134b709d738e0efc4af6f4"
          }
        },
        "5d6290e4db5c4caa9b5d119421bcee4c": {
          "model_module": "@jupyter-widgets/controls",
          "model_name": "HTMLModel",
          "model_module_version": "1.5.0",
          "state": {
            "_dom_classes": [],
            "_model_module": "@jupyter-widgets/controls",
            "_model_module_version": "1.5.0",
            "_model_name": "HTMLModel",
            "_view_count": null,
            "_view_module": "@jupyter-widgets/controls",
            "_view_module_version": "1.5.0",
            "_view_name": "HTMLView",
            "description": "",
            "description_tooltip": null,
            "layout": "IPY_MODEL_a67a08d109cb49c090af8e6309ce236e",
            "placeholder": "​",
            "style": "IPY_MODEL_0102eeec5cba4b7d98f5da9e6273500d",
            "value": "Loading checkpoint shards: 100%"
          }
        },
        "4d814a5e5fe9403e80d46e21e4e3debd": {
          "model_module": "@jupyter-widgets/controls",
          "model_name": "FloatProgressModel",
          "model_module_version": "1.5.0",
          "state": {
            "_dom_classes": [],
            "_model_module": "@jupyter-widgets/controls",
            "_model_module_version": "1.5.0",
            "_model_name": "FloatProgressModel",
            "_view_count": null,
            "_view_module": "@jupyter-widgets/controls",
            "_view_module_version": "1.5.0",
            "_view_name": "ProgressView",
            "bar_style": "success",
            "description": "",
            "description_tooltip": null,
            "layout": "IPY_MODEL_a3ef57660ed14e2bb2c66a5c2b7733da",
            "max": 2,
            "min": 0,
            "orientation": "horizontal",
            "style": "IPY_MODEL_c4c469c5830448bdb1a2b4e6967551f0",
            "value": 2
          }
        },
        "5493fafada634e5cab3a750ccc0f2a97": {
          "model_module": "@jupyter-widgets/controls",
          "model_name": "HTMLModel",
          "model_module_version": "1.5.0",
          "state": {
            "_dom_classes": [],
            "_model_module": "@jupyter-widgets/controls",
            "_model_module_version": "1.5.0",
            "_model_name": "HTMLModel",
            "_view_count": null,
            "_view_module": "@jupyter-widgets/controls",
            "_view_module_version": "1.5.0",
            "_view_name": "HTMLView",
            "description": "",
            "description_tooltip": null,
            "layout": "IPY_MODEL_cb6e78f603be47a194b90a8a80d630dd",
            "placeholder": "​",
            "style": "IPY_MODEL_91bf07d437e64fb0a2aea6c0543d5961",
            "value": " 2/2 [00:00&lt;00:00,  2.86it/s]"
          }
        },
        "c58d838309134b709d738e0efc4af6f4": {
          "model_module": "@jupyter-widgets/base",
          "model_name": "LayoutModel",
          "model_module_version": "1.2.0",
          "state": {
            "_model_module": "@jupyter-widgets/base",
            "_model_module_version": "1.2.0",
            "_model_name": "LayoutModel",
            "_view_count": null,
            "_view_module": "@jupyter-widgets/base",
            "_view_module_version": "1.2.0",
            "_view_name": "LayoutView",
            "align_content": null,
            "align_items": null,
            "align_self": null,
            "border": null,
            "bottom": null,
            "display": null,
            "flex": null,
            "flex_flow": null,
            "grid_area": null,
            "grid_auto_columns": null,
            "grid_auto_flow": null,
            "grid_auto_rows": null,
            "grid_column": null,
            "grid_gap": null,
            "grid_row": null,
            "grid_template_areas": null,
            "grid_template_columns": null,
            "grid_template_rows": null,
            "height": null,
            "justify_content": null,
            "justify_items": null,
            "left": null,
            "margin": null,
            "max_height": null,
            "max_width": null,
            "min_height": null,
            "min_width": null,
            "object_fit": null,
            "object_position": null,
            "order": null,
            "overflow": null,
            "overflow_x": null,
            "overflow_y": null,
            "padding": null,
            "right": null,
            "top": null,
            "visibility": null,
            "width": null
          }
        },
        "a67a08d109cb49c090af8e6309ce236e": {
          "model_module": "@jupyter-widgets/base",
          "model_name": "LayoutModel",
          "model_module_version": "1.2.0",
          "state": {
            "_model_module": "@jupyter-widgets/base",
            "_model_module_version": "1.2.0",
            "_model_name": "LayoutModel",
            "_view_count": null,
            "_view_module": "@jupyter-widgets/base",
            "_view_module_version": "1.2.0",
            "_view_name": "LayoutView",
            "align_content": null,
            "align_items": null,
            "align_self": null,
            "border": null,
            "bottom": null,
            "display": null,
            "flex": null,
            "flex_flow": null,
            "grid_area": null,
            "grid_auto_columns": null,
            "grid_auto_flow": null,
            "grid_auto_rows": null,
            "grid_column": null,
            "grid_gap": null,
            "grid_row": null,
            "grid_template_areas": null,
            "grid_template_columns": null,
            "grid_template_rows": null,
            "height": null,
            "justify_content": null,
            "justify_items": null,
            "left": null,
            "margin": null,
            "max_height": null,
            "max_width": null,
            "min_height": null,
            "min_width": null,
            "object_fit": null,
            "object_position": null,
            "order": null,
            "overflow": null,
            "overflow_x": null,
            "overflow_y": null,
            "padding": null,
            "right": null,
            "top": null,
            "visibility": null,
            "width": null
          }
        },
        "0102eeec5cba4b7d98f5da9e6273500d": {
          "model_module": "@jupyter-widgets/controls",
          "model_name": "DescriptionStyleModel",
          "model_module_version": "1.5.0",
          "state": {
            "_model_module": "@jupyter-widgets/controls",
            "_model_module_version": "1.5.0",
            "_model_name": "DescriptionStyleModel",
            "_view_count": null,
            "_view_module": "@jupyter-widgets/base",
            "_view_module_version": "1.2.0",
            "_view_name": "StyleView",
            "description_width": ""
          }
        },
        "a3ef57660ed14e2bb2c66a5c2b7733da": {
          "model_module": "@jupyter-widgets/base",
          "model_name": "LayoutModel",
          "model_module_version": "1.2.0",
          "state": {
            "_model_module": "@jupyter-widgets/base",
            "_model_module_version": "1.2.0",
            "_model_name": "LayoutModel",
            "_view_count": null,
            "_view_module": "@jupyter-widgets/base",
            "_view_module_version": "1.2.0",
            "_view_name": "LayoutView",
            "align_content": null,
            "align_items": null,
            "align_self": null,
            "border": null,
            "bottom": null,
            "display": null,
            "flex": null,
            "flex_flow": null,
            "grid_area": null,
            "grid_auto_columns": null,
            "grid_auto_flow": null,
            "grid_auto_rows": null,
            "grid_column": null,
            "grid_gap": null,
            "grid_row": null,
            "grid_template_areas": null,
            "grid_template_columns": null,
            "grid_template_rows": null,
            "height": null,
            "justify_content": null,
            "justify_items": null,
            "left": null,
            "margin": null,
            "max_height": null,
            "max_width": null,
            "min_height": null,
            "min_width": null,
            "object_fit": null,
            "object_position": null,
            "order": null,
            "overflow": null,
            "overflow_x": null,
            "overflow_y": null,
            "padding": null,
            "right": null,
            "top": null,
            "visibility": null,
            "width": null
          }
        },
        "c4c469c5830448bdb1a2b4e6967551f0": {
          "model_module": "@jupyter-widgets/controls",
          "model_name": "ProgressStyleModel",
          "model_module_version": "1.5.0",
          "state": {
            "_model_module": "@jupyter-widgets/controls",
            "_model_module_version": "1.5.0",
            "_model_name": "ProgressStyleModel",
            "_view_count": null,
            "_view_module": "@jupyter-widgets/base",
            "_view_module_version": "1.2.0",
            "_view_name": "StyleView",
            "bar_color": null,
            "description_width": ""
          }
        },
        "cb6e78f603be47a194b90a8a80d630dd": {
          "model_module": "@jupyter-widgets/base",
          "model_name": "LayoutModel",
          "model_module_version": "1.2.0",
          "state": {
            "_model_module": "@jupyter-widgets/base",
            "_model_module_version": "1.2.0",
            "_model_name": "LayoutModel",
            "_view_count": null,
            "_view_module": "@jupyter-widgets/base",
            "_view_module_version": "1.2.0",
            "_view_name": "LayoutView",
            "align_content": null,
            "align_items": null,
            "align_self": null,
            "border": null,
            "bottom": null,
            "display": null,
            "flex": null,
            "flex_flow": null,
            "grid_area": null,
            "grid_auto_columns": null,
            "grid_auto_flow": null,
            "grid_auto_rows": null,
            "grid_column": null,
            "grid_gap": null,
            "grid_row": null,
            "grid_template_areas": null,
            "grid_template_columns": null,
            "grid_template_rows": null,
            "height": null,
            "justify_content": null,
            "justify_items": null,
            "left": null,
            "margin": null,
            "max_height": null,
            "max_width": null,
            "min_height": null,
            "min_width": null,
            "object_fit": null,
            "object_position": null,
            "order": null,
            "overflow": null,
            "overflow_x": null,
            "overflow_y": null,
            "padding": null,
            "right": null,
            "top": null,
            "visibility": null,
            "width": null
          }
        },
        "91bf07d437e64fb0a2aea6c0543d5961": {
          "model_module": "@jupyter-widgets/controls",
          "model_name": "DescriptionStyleModel",
          "model_module_version": "1.5.0",
          "state": {
            "_model_module": "@jupyter-widgets/controls",
            "_model_module_version": "1.5.0",
            "_model_name": "DescriptionStyleModel",
            "_view_count": null,
            "_view_module": "@jupyter-widgets/base",
            "_view_module_version": "1.2.0",
            "_view_name": "StyleView",
            "description_width": ""
          }
        }
      }
    }
  },
  "cells": [
    {
      "cell_type": "markdown",
      "source": [
        "# **Part 1:  Document Conversion, OCR, and Preprocessing**"
      ],
      "metadata": {
        "id": "SEXjX3vFpqq4"
      }
    },
    {
      "cell_type": "code",
      "execution_count": null,
      "metadata": {
        "colab": {
          "base_uri": "https://localhost:8080/"
        },
        "id": "3jOMOvo3pcUR",
        "outputId": "edccc0e2-0447-4ed7-80f4-338fe52a934e"
      },
      "outputs": [
        {
          "output_type": "stream",
          "name": "stdout",
          "text": [
            "Collecting pytesseract\n",
            "  Downloading pytesseract-0.3.10-py3-none-any.whl (14 kB)\n",
            "Collecting pdf2image\n",
            "  Downloading pdf2image-1.17.0-py3-none-any.whl (11 kB)\n",
            "Requirement already satisfied: pillow in /usr/local/lib/python3.10/dist-packages (9.4.0)\n",
            "Requirement already satisfied: packaging>=21.3 in /usr/local/lib/python3.10/dist-packages (from pytesseract) (24.0)\n",
            "Installing collected packages: pytesseract, pdf2image\n",
            "Successfully installed pdf2image-1.17.0 pytesseract-0.3.10\n"
          ]
        }
      ],
      "source": [
        "!pip install pytesseract pdf2image pillow"
      ]
    },
    {
      "cell_type": "code",
      "source": [
        "!apt-get update\n",
        "!apt-get install -y tesseract-ocr\n",
        "!apt-get install -y tesseract-ocr-deu\n",
        "!apt-get install -y poppler-utils"
      ],
      "metadata": {
        "colab": {
          "base_uri": "https://localhost:8080/"
        },
        "id": "d6gKnNmvHWV3",
        "outputId": "f9ca4692-6236-41a0-b439-af0d83995c03"
      },
      "execution_count": null,
      "outputs": [
        {
          "output_type": "stream",
          "name": "stdout",
          "text": [
            "\r0% [Working]\r            \rGet:1 https://cloud.r-project.org/bin/linux/ubuntu jammy-cran40/ InRelease [3,626 B]\n",
            "\r0% [Connecting to archive.ubuntu.com (91.189.91.83)] [Connecting to security.ubuntu.com (91.189.91.8\r0% [Connecting to archive.ubuntu.com (91.189.91.83)] [Waiting for headers] [Connecting to ppa.launch\r                                                                                                    \rGet:2 https://developer.download.nvidia.com/compute/cuda/repos/ubuntu2204/x86_64  InRelease [1,581 B]\n",
            "\r0% [Waiting for headers] [Waiting for headers] [Connecting to ppa.launchpadcontent.net (185.125.190.\r0% [Waiting for headers] [Waiting for headers] [Connecting to ppa.launchpadcontent.net (185.125.190.\r                                                                                                    \rGet:3 http://security.ubuntu.com/ubuntu jammy-security InRelease [129 kB]\n",
            "\r0% [Waiting for headers] [3 InRelease 6,932 B/129 kB 5%] [Connecting to ppa.launchpadcontent.net (18\r                                                                                                    \rHit:4 http://archive.ubuntu.com/ubuntu jammy InRelease\n",
            "\r0% [Waiting for headers] [3 InRelease 14.2 kB/129 kB 11%] [Connecting to ppa.launchpadcontent.net (1\r                                                                                                    \rGet:5 http://archive.ubuntu.com/ubuntu jammy-updates InRelease [128 kB]\n",
            "Get:6 https://cloud.r-project.org/bin/linux/ubuntu jammy-cran40/ Packages [53.5 kB]\n",
            "Get:7 https://developer.download.nvidia.com/compute/cuda/repos/ubuntu2204/x86_64  Packages [917 kB]\n",
            "Get:8 http://archive.ubuntu.com/ubuntu jammy-backports InRelease [127 kB]\n",
            "Hit:9 https://ppa.launchpadcontent.net/c2d4u.team/c2d4u4.0+/ubuntu jammy InRelease\n",
            "Get:10 http://security.ubuntu.com/ubuntu jammy-security/restricted amd64 Packages [2,439 kB]\n",
            "Get:11 http://archive.ubuntu.com/ubuntu jammy-updates/multiverse amd64 Packages [51.5 kB]\n",
            "Get:12 http://archive.ubuntu.com/ubuntu jammy-updates/universe amd64 Packages [1,389 kB]\n",
            "Get:13 https://ppa.launchpadcontent.net/deadsnakes/ppa/ubuntu jammy InRelease [18.1 kB]\n",
            "Get:14 http://security.ubuntu.com/ubuntu jammy-security/universe amd64 Packages [1,088 kB]\n",
            "Get:15 http://security.ubuntu.com/ubuntu jammy-security/main amd64 Packages [1,885 kB]\n",
            "Get:16 http://archive.ubuntu.com/ubuntu jammy-updates/main amd64 Packages [2,160 kB]\n",
            "Get:17 https://ppa.launchpadcontent.net/graphics-drivers/ppa/ubuntu jammy InRelease [24.3 kB]\n",
            "Get:18 http://archive.ubuntu.com/ubuntu jammy-backports/universe amd64 Packages [31.8 kB]\n",
            "Hit:19 https://ppa.launchpadcontent.net/ubuntugis/ppa/ubuntu jammy InRelease\n",
            "Get:20 https://ppa.launchpadcontent.net/deadsnakes/ppa/ubuntu jammy/main amd64 Packages [27.8 kB]\n",
            "Get:21 https://ppa.launchpadcontent.net/graphics-drivers/ppa/ubuntu jammy/main amd64 Packages [47.9 kB]\n",
            "Fetched 10.5 MB in 2s (6,114 kB/s)\n",
            "Reading package lists... Done\n",
            "Reading package lists... Done\n",
            "Building dependency tree... Done\n",
            "Reading state information... Done\n",
            "The following additional packages will be installed:\n",
            "  tesseract-ocr-eng tesseract-ocr-osd\n",
            "The following NEW packages will be installed:\n",
            "  tesseract-ocr tesseract-ocr-eng tesseract-ocr-osd\n",
            "0 upgraded, 3 newly installed, 0 to remove and 49 not upgraded.\n",
            "Need to get 4,816 kB of archives.\n",
            "After this operation, 15.6 MB of additional disk space will be used.\n",
            "Get:1 http://archive.ubuntu.com/ubuntu jammy/universe amd64 tesseract-ocr-eng all 1:4.00~git30-7274cfa-1.1 [1,591 kB]\n",
            "Get:2 http://archive.ubuntu.com/ubuntu jammy/universe amd64 tesseract-ocr-osd all 1:4.00~git30-7274cfa-1.1 [2,990 kB]\n",
            "Get:3 http://archive.ubuntu.com/ubuntu jammy/universe amd64 tesseract-ocr amd64 4.1.1-2.1build1 [236 kB]\n",
            "Fetched 4,816 kB in 10s (491 kB/s)\n",
            "Selecting previously unselected package tesseract-ocr-eng.\n",
            "(Reading database ... 121913 files and directories currently installed.)\n",
            "Preparing to unpack .../tesseract-ocr-eng_1%3a4.00~git30-7274cfa-1.1_all.deb ...\n",
            "Unpacking tesseract-ocr-eng (1:4.00~git30-7274cfa-1.1) ...\n",
            "Selecting previously unselected package tesseract-ocr-osd.\n",
            "Preparing to unpack .../tesseract-ocr-osd_1%3a4.00~git30-7274cfa-1.1_all.deb ...\n",
            "Unpacking tesseract-ocr-osd (1:4.00~git30-7274cfa-1.1) ...\n",
            "Selecting previously unselected package tesseract-ocr.\n",
            "Preparing to unpack .../tesseract-ocr_4.1.1-2.1build1_amd64.deb ...\n",
            "Unpacking tesseract-ocr (4.1.1-2.1build1) ...\n",
            "Setting up tesseract-ocr-eng (1:4.00~git30-7274cfa-1.1) ...\n",
            "Setting up tesseract-ocr-osd (1:4.00~git30-7274cfa-1.1) ...\n",
            "Setting up tesseract-ocr (4.1.1-2.1build1) ...\n",
            "Processing triggers for man-db (2.10.2-1) ...\n",
            "Reading package lists... Done\n",
            "Building dependency tree... Done\n",
            "Reading state information... Done\n",
            "The following NEW packages will be installed:\n",
            "  tesseract-ocr-deu\n",
            "0 upgraded, 1 newly installed, 0 to remove and 49 not upgraded.\n",
            "Need to get 744 kB of archives.\n",
            "After this operation, 1,540 kB of additional disk space will be used.\n",
            "Get:1 http://archive.ubuntu.com/ubuntu jammy/universe amd64 tesseract-ocr-deu all 1:4.00~git30-7274cfa-1.1 [744 kB]\n",
            "Fetched 744 kB in 2s (385 kB/s)\n",
            "Selecting previously unselected package tesseract-ocr-deu.\n",
            "(Reading database ... 121960 files and directories currently installed.)\n",
            "Preparing to unpack .../tesseract-ocr-deu_1%3a4.00~git30-7274cfa-1.1_all.deb ...\n",
            "Unpacking tesseract-ocr-deu (1:4.00~git30-7274cfa-1.1) ...\n",
            "Setting up tesseract-ocr-deu (1:4.00~git30-7274cfa-1.1) ...\n",
            "Reading package lists... Done\n",
            "Building dependency tree... Done\n",
            "Reading state information... Done\n",
            "The following NEW packages will be installed:\n",
            "  poppler-utils\n",
            "0 upgraded, 1 newly installed, 0 to remove and 49 not upgraded.\n",
            "Need to get 186 kB of archives.\n",
            "After this operation, 696 kB of additional disk space will be used.\n",
            "Get:1 http://archive.ubuntu.com/ubuntu jammy-updates/main amd64 poppler-utils amd64 22.02.0-2ubuntu0.4 [186 kB]\n",
            "Fetched 186 kB in 1s (205 kB/s)\n",
            "Selecting previously unselected package poppler-utils.\n",
            "(Reading database ... 121964 files and directories currently installed.)\n",
            "Preparing to unpack .../poppler-utils_22.02.0-2ubuntu0.4_amd64.deb ...\n",
            "Unpacking poppler-utils (22.02.0-2ubuntu0.4) ...\n",
            "Setting up poppler-utils (22.02.0-2ubuntu0.4) ...\n",
            "Processing triggers for man-db (2.10.2-1) ...\n"
          ]
        }
      ]
    },
    {
      "cell_type": "code",
      "source": [
        "!which tesseract"
      ],
      "metadata": {
        "colab": {
          "base_uri": "https://localhost:8080/"
        },
        "id": "h6fCEZTAQcUw",
        "outputId": "54ba9ad3-da46-4a14-8741-cfd5f58df980"
      },
      "execution_count": null,
      "outputs": [
        {
          "output_type": "stream",
          "name": "stdout",
          "text": [
            "/usr/bin/tesseract\n"
          ]
        }
      ]
    },
    {
      "cell_type": "markdown",
      "source": [
        "Document Conversion from pdf to txt using OCR"
      ],
      "metadata": {
        "id": "mYFmufgsp7_K"
      }
    },
    {
      "cell_type": "code",
      "source": [
        "import pytesseract\n",
        "from pdf2image import convert_from_path\n",
        "import os"
      ],
      "metadata": {
        "id": "PZQ7US6Krr-u"
      },
      "execution_count": null,
      "outputs": []
    },
    {
      "cell_type": "code",
      "source": [
        "pytesseract.pytesseract.tesseract_cmd = r'/usr/bin/tesseract'"
      ],
      "metadata": {
        "id": "MqTujM5tqDbh"
      },
      "execution_count": null,
      "outputs": []
    },
    {
      "cell_type": "code",
      "source": [
        "def pdf_to_text(pdf_path, output_txt_path, language='deu'):\n",
        "    images = convert_from_path(pdf_path)\n",
        "\n",
        "    full_text = \"\"\n",
        "\n",
        "    for i, image in enumerate(images):\n",
        "        text = pytesseract.image_to_string(image, lang=language)\n",
        "        full_text += text\n",
        "\n",
        "    with open(output_txt_path, 'w', encoding='utf-8') as f:\n",
        "        f.write(full_text)"
      ],
      "metadata": {
        "id": "6h-Da4krqy38"
      },
      "execution_count": null,
      "outputs": []
    },
    {
      "cell_type": "code",
      "source": [
        "from google.colab import drive\n",
        "\n",
        "drive.mount('/content/drive')"
      ],
      "metadata": {
        "colab": {
          "base_uri": "https://localhost:8080/"
        },
        "id": "ZaBr0MuWQzRY",
        "outputId": "16a116b5-d179-4080-fbeb-ca8e92d3eda3"
      },
      "execution_count": null,
      "outputs": [
        {
          "output_type": "stream",
          "name": "stdout",
          "text": [
            "Mounted at /content/drive\n"
          ]
        }
      ]
    },
    {
      "cell_type": "code",
      "source": [
        "for i in range(1,5):\n",
        "  pdf_path        = f\"/content/drive/MyDrive/sample{i}.pdf\"\n",
        "  output_txt_path = f\"/content/drive/MyDrive/output{i}.txt\"\n",
        "  pdf_to_text(pdf_path, output_txt_path)"
      ],
      "metadata": {
        "id": "lwvWHQhoshwm"
      },
      "execution_count": null,
      "outputs": []
    },
    {
      "cell_type": "markdown",
      "source": [
        "Preprocessing"
      ],
      "metadata": {
        "id": "p7EG0xHQyhKj"
      }
    },
    {
      "cell_type": "code",
      "source": [
        "import re\n",
        "import nltk\n",
        "from nltk.tokenize import sent_tokenize, word_tokenize\n",
        "\n",
        "# Load NLTK resources\n",
        "nltk.download('punkt')\n",
        "\n",
        "def preprocess_text(file_path):\n",
        "  with open(file_path, 'r', encoding='utf-8') as file:\n",
        "    text = file.read()\n",
        "\n",
        "  # Text cleaning\n",
        "  text = re.sub(r'\\n', ' ', text)  # Replace newline characters with space\n",
        "  text = re.sub(r'\\s+', ' ', text)  # Replace multiple spaces with a single space\n",
        "  text = text.strip()  # Remove leading and trailing whitespace\n",
        "\n",
        "  # Sentence segmentation\n",
        "  sentences = sent_tokenize(text)\n",
        "\n",
        "  # Tokenization\n",
        "  tokenized_sentences = [word_tokenize(sentence) for sentence in sentences]\n",
        "\n",
        "  return tokenized_sentences\n",
        "\n",
        "preprocessed_text = []\n",
        "# Example usage\n",
        "for i in range(1,5):\n",
        "\n",
        "  file_path = f'/content/drive/MyDrive/output{i}.txt'\n",
        "  preprocessed_text.append(preprocess_text(file_path))\n",
        "\n",
        "[print(preprocessed_text[i]) for i in range(4)]\n"
      ],
      "metadata": {
        "colab": {
          "base_uri": "https://localhost:8080/"
        },
        "id": "9zWvwusNygvb",
        "outputId": "746fc1b7-a248-4aee-ec29-3f3f8bf1d90b"
      },
      "execution_count": null,
      "outputs": [
        {
          "output_type": "stream",
          "name": "stderr",
          "text": [
            "[nltk_data] Downloading package punkt to /root/nltk_data...\n",
            "[nltk_data]   Unzipping tokenizers/punkt.zip.\n"
          ]
        },
        {
          "output_type": "stream",
          "name": "stdout",
          "text": [
            "[['[', 'Ihr', 'Logo', ']', 'Musterfirma', '—-', 'Musterstraße', '23', '—', '12345', ',', 'Musterhausen', 'Gutschriftsempfänger', 'Straße', ',', 'Hausnummer', 'PLZ', ',', 'Ort', 'Musterfirma', 'AG', 'Musterstraße', ',', '23', '12345', ',', 'Musterhausen', 'Datum', ':', '01.03.2019', 'Gutschrift', 'Nr', '.'], [':', '2019-1004', 'Ihre', 'UmSt', '.'], ['ID', ':', 'DE123456789', 'Gutschriftssdatum', 'entspricht', 'Liefer-/Leistungsdatum', 'Gutschrift', 'Sehr', 'geehrter', 'Herr', 'Schmidt', ',', 'gemäß', 'unserer', 'Vereinbarung', 'schreiben', 'wir', 'Ihnen', 'folgende', 'Leistungen', 'gut', ':', 'Position', 'Anzahl', 'Einheit', 'Bezeichnung', 'Einzelpreis', 'Gesamtpreis', '1', '5', 'Stück', 'Musterleistung', '3,00', '€', '15,00', '€', '2', '3', 'Stück', 'Musterleistung', '5,00', '€', '15,00', '€', 'Nettopreis', '30,00', '€', 'Zzgl', '.'], ['19', '%', 'USt', '.'], ['5,70€', 'Gutschriftbetrag', '35,70', '€', 'Wir', 'überweisen', 'Ihnen', 'den', 'Gutschriftbetrag', 'in', 'den', 'nächsten', 'Tagen', 'auf', 'Ihr', 'Konto', '.'], ['Mit', 'freundlichen', 'Grüßen', 'Max', 'Mustermann', 'Musterfirma', 'GmbH', 'Kreditinstitut', ':', 'Commerzbank', 'USt-ID', ':', 'DE24324567', 'Musterstraße', ',', '23', 'IBAN', ':', 'DE3423', '4562', '3435', '6765', 'HRB', ':', '1234567B', '12345', ',', 'Musterhausen', 'BIC', ':', 'COBADEFFXXX', 'Amtsgericht', ':', 'Charlottenburg', 'Tel', ':', '+40', '(', '0', ')', '30', '12345678', 'Kto', '.'], ['Inh', '.'], [':', 'Max', 'Mustermann', 'Geschäftsführer', ':', 'Max', 'Mustermann', 'E-Mail', ':', 'info', '@', 'muster.de', 'Webseite', ':', 'www.firma.de']]\n",
            "[['06/10/2021', '.'], ['LS353348', ')', 'kmey', 'Sample', 'Invoice', 'Billing', 'Information', 'Shipping', 'Information', 'Company', 'Name', 'Name', 'Donec', 'odio', 'Corrie', 'Gapper', 'Jennica', 'Castlake', 'Address', 'Address', '84746', 'Buhler', 'St', ',', '32073', 'Brow', '12232', 'Gina', 'Way', ',', '1', 'Main', 'Par', '.'], ['.'], ['Greenville', ',', 'So', ',', '29605', 'Cineinnati', ',', 'Oh', ',', '45203', 'Phone', 'Number', '(', '123', ')', '123-1232', 'Email', 'sgoodered2', '@', 'tiny.cc', 'Description', 'Quantity', 'Unit', 'Price', 'Total', 'Product/Service', '1', 'Sink', '2', '100', '5200', 'Product/Service', '2', 'Nest', 'Smart', 'Filter', '1', '150', '5150', 'Product/Service', '3', 'Labor', 'Fee', '1', '50', '$', '50', 'Product/Service', '4', 'Service', 'Fee', '1', '25', '$', '25', 'Total', ':', '1409']]\n",
            "[['Firmenlogo', 'Max', 'Mustermann', '-', 'Musterstr', '.'], ['1', '-', '41321', 'Musterstadt', 'Frau', 'Britta', 'Beispiel', 'Beispielstr', '.'], ['27', '54657', 'Beispielstadt', 'Deutschland', 'So', 'erreichen', 'Sie', 'uns', 'Internet', 'www.mustermann.de', 'E-Mail', 'max', '@', 'muster.de', 'Telefon', '01234/987654-0', 'Telefax', '01234/987654-1', 'Mobil', '01234/987654-2', 'Steuer-Nr', '.'], ['122/5432/1234', 'USt-IDNr', '.'], ['DE123456789', 'Datum', '01.01.2023', 'Kunde', '123456', 'Rechnung', '202210001', 'Sehr', 'geehrte', 'Frau', 'Beispiel', ',', 'nachfolgend', 'berechnen', 'wir', 'Ihnen', 'wie', 'vorab', 'besprochen', ':', 'Rechnung', '202210001', 'Das', 'Rechnungsdatum', 'entspricht', 'dem', 'Leistungsdatum', 'Pos', 'Art-Nr', '.'], ['Bezeichnung', 'Menge', 'Einzelpreis', 'Betrag', '1', '1234', 'Unkraut', 'entfernt', 'und', 'Rase', 'gemäht', '4,5', 'Std', '.'], ['20,00', '90,00', '€', '2', '5678', 'Weiterberechnung', 'Reinigungsmittel', '1', '17,00', '17,00', '€', 'Nettobetrag', '107,00', '€', 'Umsatzsteuer', '19', '%', '20,33', '€', 'Rechnungsbetrag', '127,33', '€', 'Vielen', 'Dank', 'für', 'Ihren', 'Auftrag', '!'], ['Bitte', 'begleichen', 'Sie', 'den', 'offenen', 'Betrag', 'bis', 'zum', '01.07.2023', 'an', 'die', 'unten', 'aufgeführte', 'Bankverbindung', '.'], ['Mit', 'freundlichen', 'Grüßen', 'Max', 'Mustermann', 'Zahlungsempfänger', 'Max', 'Mustermann', 'Bankverbindung', 'Deutsche', 'Bank', 'AG', 'BIC', 'XXX12345', ',', 'IBAN', 'DE12387654321']]\n",
            "[['Kraxi', 'GmbH', 'Flugzeugallee', '17', '12345', 'Papierfeld', 'Deutschland', 'Tel', '.'], ['(', '0123', ')', '4567', 'Fax', '(', '0123', ')', '4568', 'Kraxi', 'GmbH', '+', 'Flugzeugallee', '17', '+', '12345', 'Papierfeld', '+', 'Deutschland', 'info', '@', 'kraxi.com', 'www.kraxi.com', 'Papierflieger-Vertriebs-GmbH', 'Helga', 'Musterfrau', 'Rabattstr', '.'], ['25', '34567', 'Osterhausen', 'Deutschland', 'Rechnungsnummer', ':', '2019-03', 'Liefer-', 'und', 'Rechnungsdatum', ':', '8', '.'], ['Mai', '2019', 'Kundennummer', ':', '987-654', 'Ihre', 'Auftragsnummer', ':', 'ABC-123', 'Beträge', 'in', 'EUR', 'Pos', '.'], ['Artikelbeschreibung', 'Menge', 'Preis', 'Betrag', '1', 'Superdrachen', '2', '20,00', '40,00', '2', 'Turbo', 'Flyer', '5', '40,00', '200,00', '3', 'Sturzflug-Geier', '1', '180,00', '180,00', '4', 'Eisvogel', '3', '50,00', '150,00', '5', 'Storch', '10', '20,00', '200,00', '6', 'Adler', '1', '75,00', '75,00', '7', 'Kostenlose', 'Zugabe', '1', '0,00', '0,00', 'Rechnungssumme', 'netto', '845,00', 'zuzüglich', '19', '%', 'MwSt', '.'], ['160,55', 'Rechnungssumme', 'brutto', '1.005,55', 'Zahlbar', 'innerhalb', 'von', '30', 'Tagen', 'netto', 'auf', 'unser', 'Konto', '.'], ['Bitte', 'geben', 'Sie', 'dabei', 'die', 'Rechnungsnummer', 'an', '.'], ['Skontoabzüge', 'werden', 'nicht', 'akzeptiert', '.'], ['Kraxi', 'GmbH', 'Sitz', 'der', 'Gesellschaft', 'USt-IdNr', 'Postbank', 'München', 'GF', 'Paul', 'Kraxi', 'München', 'HRB', '999999', 'DE123456789', 'IBAN', 'DE28700100809999999999']]\n"
          ]
        },
        {
          "output_type": "execute_result",
          "data": {
            "text/plain": [
              "[None, None, None, None]"
            ]
          },
          "metadata": {},
          "execution_count": 11
        }
      ]
    },
    {
      "cell_type": "markdown",
      "source": [
        "# **Part 2: LLM-Powered Understanding and Actions**"
      ],
      "metadata": {
        "id": "xyebRJVQwfvV"
      }
    },
    {
      "cell_type": "code",
      "source": [
        "!pip install openai==0.28"
      ],
      "metadata": {
        "colab": {
          "base_uri": "https://localhost:8080/"
        },
        "id": "ZsgdvOfYTm-U",
        "outputId": "41812f27-2dc9-455b-9bae-c8b92e8e94ab"
      },
      "execution_count": null,
      "outputs": [
        {
          "output_type": "stream",
          "name": "stdout",
          "text": [
            "Collecting openai==0.28\n",
            "  Downloading openai-0.28.0-py3-none-any.whl (76 kB)\n",
            "\u001b[?25l     \u001b[90m━━━━━━━━━━━━━━━━━━━━━━━━━━━━━━━━━━━━━━━━\u001b[0m \u001b[32m0.0/76.5 kB\u001b[0m \u001b[31m?\u001b[0m eta \u001b[36m-:--:--\u001b[0m\r\u001b[2K     \u001b[90m━━━━━━━━━━━━━━━━━━━━━━━━━━━━━━━━━━━━━━━━\u001b[0m \u001b[32m76.5/76.5 kB\u001b[0m \u001b[31m3.1 MB/s\u001b[0m eta \u001b[36m0:00:00\u001b[0m\n",
            "\u001b[?25hRequirement already satisfied: requests>=2.20 in /usr/local/lib/python3.10/dist-packages (from openai==0.28) (2.31.0)\n",
            "Requirement already satisfied: tqdm in /usr/local/lib/python3.10/dist-packages (from openai==0.28) (4.66.4)\n",
            "Requirement already satisfied: aiohttp in /usr/local/lib/python3.10/dist-packages (from openai==0.28) (3.9.5)\n",
            "Requirement already satisfied: charset-normalizer<4,>=2 in /usr/local/lib/python3.10/dist-packages (from requests>=2.20->openai==0.28) (3.3.2)\n",
            "Requirement already satisfied: idna<4,>=2.5 in /usr/local/lib/python3.10/dist-packages (from requests>=2.20->openai==0.28) (3.7)\n",
            "Requirement already satisfied: urllib3<3,>=1.21.1 in /usr/local/lib/python3.10/dist-packages (from requests>=2.20->openai==0.28) (2.0.7)\n",
            "Requirement already satisfied: certifi>=2017.4.17 in /usr/local/lib/python3.10/dist-packages (from requests>=2.20->openai==0.28) (2024.6.2)\n",
            "Requirement already satisfied: aiosignal>=1.1.2 in /usr/local/lib/python3.10/dist-packages (from aiohttp->openai==0.28) (1.3.1)\n",
            "Requirement already satisfied: attrs>=17.3.0 in /usr/local/lib/python3.10/dist-packages (from aiohttp->openai==0.28) (23.2.0)\n",
            "Requirement already satisfied: frozenlist>=1.1.1 in /usr/local/lib/python3.10/dist-packages (from aiohttp->openai==0.28) (1.4.1)\n",
            "Requirement already satisfied: multidict<7.0,>=4.5 in /usr/local/lib/python3.10/dist-packages (from aiohttp->openai==0.28) (6.0.5)\n",
            "Requirement already satisfied: yarl<2.0,>=1.0 in /usr/local/lib/python3.10/dist-packages (from aiohttp->openai==0.28) (1.9.4)\n",
            "Requirement already satisfied: async-timeout<5.0,>=4.0 in /usr/local/lib/python3.10/dist-packages (from aiohttp->openai==0.28) (4.0.3)\n",
            "Installing collected packages: openai\n",
            "Successfully installed openai-0.28.0\n"
          ]
        }
      ]
    },
    {
      "cell_type": "code",
      "source": [
        "import openai\n",
        "\n",
        "openai.api_key = \"API_KEY\"\n",
        "\n",
        "text = preprocessed_text"
      ],
      "metadata": {
        "id": "HtagNdm6yIC3"
      },
      "execution_count": null,
      "outputs": []
    },
    {
      "cell_type": "code",
      "source": [
        "def extract_relationships(text):\n",
        "    response = openai.Completion.create(\n",
        "        engine=\"gpt-3.5-turbo-instruct\",\n",
        "        prompt=f\"Extract relationships between entities from the following text make key value pair:\\n\\n{text}\",\n",
        "        max_tokens=500\n",
        "    )\n",
        "    relationships = response.choices[0].text.strip()\n",
        "    return relationships\n",
        "\n",
        "relationships = []\n",
        "for i in range(3):\n",
        "  relationships.append(extract_relationships(text[i]))"
      ],
      "metadata": {
        "id": "nhmiFS3eTsh2"
      },
      "execution_count": null,
      "outputs": []
    },
    {
      "cell_type": "code",
      "source": [
        "relationships.append(extract_relationships(text[3]))"
      ],
      "metadata": {
        "id": "vHSlOycFam_W"
      },
      "execution_count": null,
      "outputs": []
    },
    {
      "cell_type": "code",
      "source": [
        "[print(relationships[i]+'\\n') for i in range(4)]"
      ],
      "metadata": {
        "colab": {
          "base_uri": "https://localhost:8080/"
        },
        "id": "-SlB0MZeZUoO",
        "outputId": "6d4cca25-4ffe-4bb4-f422-ba1c0d9549b3"
      },
      "execution_count": null,
      "outputs": [
        {
          "output_type": "stream",
          "name": "stdout",
          "text": [
            "- Company name: Musterfirma\n",
            "- Address: Musterstraße 23, 12345 Musterhausen\n",
            "- Invoice number: 2019-1004\n",
            "- VAT number: DE123456789\n",
            "- Invoice date: 01.03.2019\n",
            "- Customer: Herr Schmidt\n",
            "- Payment method: bank transfer\n",
            "- Account information: Konto\n",
            "- Amount: 35,70 €\n",
            "- Delivery date: 01.03.2019\n",
            "- Item 1: Musterleistung\n",
            "- Quantity: 5\n",
            "- Unit price: 3,00 €\n",
            "- Total price: 15,00 €\n",
            "- Item 2: Musterleistung\n",
            "- Quantity: 3\n",
            "- Unit price: 5,00 €\n",
            "- Total price: 15,00 €\n",
            "- Net price: 30,00 €\n",
            "- VAT rate: 19%\n",
            "- VAT amount: 5,70 €\n",
            "- Bank: Commerzbank\n",
            "- VAT ID: DE24324567\n",
            "- IBAN: DE3423 4562 3435 6765\n",
            "- Register court: Amtsgericht Charlottenburg\n",
            "- Company email: info@muster.de\n",
            "- Website: www.firma.de\n",
            "- Owner/Managing Director: Max Mustermann\n",
            "- Phone number: +40 (0) 30 12345678\n",
            "- Title: Inhaber/Geschäftsführer\n",
            "- Contact email: info@muster.de\n",
            "- Contact website: www.firma.de\n",
            "\n",
            "\"Billing Information\": {'Date': '06/10/2021', 'Invoice Number': 'LS353348', 'Customer Name': 'Donec odio', 'Address': '84746 Buhler St, 32073 Brow 12232 Gina Way, 1 Main Par, Greenville, So, 29605 Cineinnati, Oh, 45203', 'Phone Number': '(123) 123-1232', 'Email': 'sgoodered2@tiny.cc', 'Description': 'Sink, Nest Smart Filter, Labor Fee, Service Fee'}\n",
            "\"Shipping Information\": {'Name': 'Corrie Gapper Jennica Castlake', 'Address': '84746 Buhler St, 32073 Brow 12232 Gina Way, 1 Main Par, Greenville, So, 29605 Cineinnati, Oh, 45203'}\n",
            "\"Company Name\": 'kmey'\n",
            "\"Products/Services\": {'1': {'Name': 'Sink', 'Quantity': '1', 'Unit Price': '100', 'Total Price': '$100'}, \n",
            "                       '2': {'Name': 'Nest Smart Filter', 'Quantity': '2', 'Unit Price': '150', 'Total Price': '$300'}, \n",
            "                       '3': {'Name': 'Labor Fee', 'Quantity': '1', 'Unit Price': '50', 'Total Price': '$50'}, \n",
            "                       '4': {'Name': 'Service Fee', 'Quantity': '1', 'Unit Price': '25', 'Total Price': '$25'}\n",
            "}\n",
            "\"Total\": '$1409'\n",
            "\n",
            "{\n",
            "    'Name': 'Max Mustermann',\n",
            "    'Address': 'Musterstr 1, 41321 Musterstadt, Deutschland',\n",
            "    'Contact Information': {\n",
            "        'Name': 'Britta Beispiel',\n",
            "        'Address': 'Beispielstr 27, 54657 Beispielstadt, Deutschland',\n",
            "        'Website': 'www.mustermann.de',\n",
            "        'Email': 'max@muster.de',\n",
            "        'Phone': '01234/987654-0',\n",
            "        'Fax': '01234/987654-1',\n",
            "        'Mobile': '01234/987654-2'\n",
            "    },\n",
            "    'Tax Information': {\n",
            "        'Tax Number': '122/5432/1234',\n",
            "        'VAT Number': 'DE123456789'\n",
            "    },\n",
            "    'Invoice Information': {\n",
            "        'Date': '01.01.2023',\n",
            "        'Customer': '123456',\n",
            "        'Invoice Number': '202210001',\n",
            "        'Items': [\n",
            "            {\n",
            "                'Position': '1',\n",
            "                'Article Number': '1234',\n",
            "                'Description': 'Unkraut entfernt und Rasen gemäht',\n",
            "                'Quantity': '4,5 Std',\n",
            "                'Price': '90,00 €'\n",
            "            },\n",
            "            {\n",
            "                'Position': '2',\n",
            "                'Article Number': '5678',\n",
            "                'Description': 'Weiterberechnung Reinigungsmittel',\n",
            "                'Quantity': '1',\n",
            "                'Price': '17,00 €'\n",
            "            }\n",
            "        ],\n",
            "        'Net Amount': '107,00 €',\n",
            "        'VAT Amount': '20,33 €',\n",
            "        'Total Amount': '127,33 €'\n",
            "    },\n",
            "    'Payment Information': {\n",
            "        'Due Date': '01.07.2023',\n",
            "        'Bank Details': 'Deutsche Bank AG, BIC: XXX12345, IBAN: DE12387654321'\n",
            "    },\n",
            "    'Sender': 'Max Mustermann'\n",
            "}\n",
            "\n",
            "1. Entity 1: Kraxi GmbH\n",
            "   Entity 2: Flugzeugallee 17\n",
            "   Entity 3: 12345 Papierfeld, Deutschland\n",
            "   Relation: Address\n",
            "\n",
            "2. Entity 1: Kraxi GmbH\n",
            "   Entity 2: Tel. (0123) 4567\n",
            "   Relation: Phone Number\n",
            "\n",
            "3. Entity 1: Kraxi GmbH\n",
            "   Entity 2: Fax (0123) 4568\n",
            "   Relation: Fax Number\n",
            "\n",
            "4. Entity 1: Kraxi GmbH\n",
            "   Entity 2: info@kraxi.com\n",
            "   Entity 3: www.kraxi.com\n",
            "   Relation: Email and Website\n",
            "\n",
            "5. Entity 1: Papierflieger-Vertriebs-GmbH\n",
            "   Entity 2: Helga Musterfrau\n",
            "   Entity 3: Rabattstr.25 34567 Osterhausen, Deutschland\n",
            "   Relation: Company name, Contact person, Address\n",
            "\n",
            "6. Entity 1: Rechnungsnummer\n",
            "   Entity 2: 2019-03\n",
            "   Entity 3: Liefer- und Rechnungsdatum\n",
            "   Relation: Invoice number, Date of invoice and delivery\n",
            "\n",
            "7. Entity 1: Kundennummer\n",
            "   Entity 2: 987-654\n",
            "   Relation: Customer number\n",
            "\n",
            "8. Entity 1: Auftragsnummer\n",
            "   Entity 2: ABC-123\n",
            "   Relation: Order number\n",
            "\n",
            "9. Entity 1: Pos.\n",
            "   Entity 2: Artikelbeschreibung\n",
            "   Entity 3: Menge\n",
            "   Relation: Item position, Item description, Quantity\n",
            "\n",
            "10. Entity 1: Pos.\n",
            "   Entity 2: Preis\n",
            "   Relation: Item position, Item price\n",
            "\n",
            "11. Entity 1: Pos.\n",
            "   Entity 2: Betrag\n",
            "   Relation: Item position, Item amount\n",
            "\n",
            "12. Entity 1: Rechnungssumme\n",
            "   Entity 2: Netto 845,00 €\n",
            "   Entity 3: zuzüglich 19% MwSt.\n",
            "   Relation: Subtotal, Net amount, Tax rate\n",
            "\n",
            "13. Entity 1: Rechnungssumme\n",
            "   Entity 2: Brutto 1005,55 €\n",
            "   Relation: Total amount\n",
            "\n",
            "14. Entity 1: Skontoabzüge\n",
            "   Entity 2: Nicht akzeptiert\n",
            "\n"
          ]
        },
        {
          "output_type": "execute_result",
          "data": {
            "text/plain": [
              "[None, None, None, None]"
            ]
          },
          "metadata": {},
          "execution_count": 19
        }
      ]
    },
    {
      "cell_type": "code",
      "source": [
        "[print(preprocessed_text[i])for i in range(3)]"
      ],
      "metadata": {
        "colab": {
          "base_uri": "https://localhost:8080/"
        },
        "id": "_SJXLhS0exEF",
        "outputId": "37535f9f-3aa2-4169-cad2-f8fe6414977b"
      },
      "execution_count": null,
      "outputs": [
        {
          "output_type": "stream",
          "name": "stdout",
          "text": [
            "[['[', 'Ihr', 'Logo', ']', 'Musterfirma', '—-', 'Musterstraße', '23', '—', '12345', ',', 'Musterhausen', 'Gutschriftsempfänger', 'Straße', ',', 'Hausnummer', 'PLZ', ',', 'Ort', 'Musterfirma', 'AG', 'Musterstraße', ',', '23', '12345', ',', 'Musterhausen', 'Datum', ':', '01.03.2019', 'Gutschrift', 'Nr', '.'], [':', '2019-1004', 'Ihre', 'UmSt', '.'], ['ID', ':', 'DE123456789', 'Gutschriftssdatum', 'entspricht', 'Liefer-/Leistungsdatum', 'Gutschrift', 'Sehr', 'geehrter', 'Herr', 'Schmidt', ',', 'gemäß', 'unserer', 'Vereinbarung', 'schreiben', 'wir', 'Ihnen', 'folgende', 'Leistungen', 'gut', ':', 'Position', 'Anzahl', 'Einheit', 'Bezeichnung', 'Einzelpreis', 'Gesamtpreis', '1', '5', 'Stück', 'Musterleistung', '3,00', '€', '15,00', '€', '2', '3', 'Stück', 'Musterleistung', '5,00', '€', '15,00', '€', 'Nettopreis', '30,00', '€', 'Zzgl', '.'], ['19', '%', 'USt', '.'], ['5,70€', 'Gutschriftbetrag', '35,70', '€', 'Wir', 'überweisen', 'Ihnen', 'den', 'Gutschriftbetrag', 'in', 'den', 'nächsten', 'Tagen', 'auf', 'Ihr', 'Konto', '.'], ['Mit', 'freundlichen', 'Grüßen', 'Max', 'Mustermann', 'Musterfirma', 'GmbH', 'Kreditinstitut', ':', 'Commerzbank', 'USt-ID', ':', 'DE24324567', 'Musterstraße', ',', '23', 'IBAN', ':', 'DE3423', '4562', '3435', '6765', 'HRB', ':', '1234567B', '12345', ',', 'Musterhausen', 'BIC', ':', 'COBADEFFXXX', 'Amtsgericht', ':', 'Charlottenburg', 'Tel', ':', '+40', '(', '0', ')', '30', '12345678', 'Kto', '.'], ['Inh', '.'], [':', 'Max', 'Mustermann', 'Geschäftsführer', ':', 'Max', 'Mustermann', 'E-Mail', ':', 'info', '@', 'muster.de', 'Webseite', ':', 'www.firma.de']]\n",
            "[['06/10/2021', '.'], ['LS353348', ')', 'kmey', 'Sample', 'Invoice', 'Billing', 'Information', 'Shipping', 'Information', 'Company', 'Name', 'Name', 'Donec', 'odio', 'Corrie', 'Gapper', 'Jennica', 'Castlake', 'Address', 'Address', '84746', 'Buhler', 'St', ',', '32073', 'Brow', '12232', 'Gina', 'Way', ',', '1', 'Main', 'Par', '.'], ['.'], ['Greenville', ',', 'So', ',', '29605', 'Cineinnati', ',', 'Oh', ',', '45203', 'Phone', 'Number', '(', '123', ')', '123-1232', 'Email', 'sgoodered2', '@', 'tiny.cc', 'Description', 'Quantity', 'Unit', 'Price', 'Total', 'Product/Service', '1', 'Sink', '2', '100', '5200', 'Product/Service', '2', 'Nest', 'Smart', 'Filter', '1', '150', '5150', 'Product/Service', '3', 'Labor', 'Fee', '1', '50', '$', '50', 'Product/Service', '4', 'Service', 'Fee', '1', '25', '$', '25', 'Total', ':', '1409']]\n",
            "[['Firmenlogo', 'Max', 'Mustermann', '-', 'Musterstr', '.'], ['1', '-', '41321', 'Musterstadt', 'Frau', 'Britta', 'Beispiel', 'Beispielstr', '.'], ['27', '54657', 'Beispielstadt', 'Deutschland', 'So', 'erreichen', 'Sie', 'uns', 'Internet', 'www.mustermann.de', 'E-Mail', 'max', '@', 'muster.de', 'Telefon', '01234/987654-0', 'Telefax', '01234/987654-1', 'Mobil', '01234/987654-2', 'Steuer-Nr', '.'], ['122/5432/1234', 'USt-IDNr', '.'], ['DE123456789', 'Datum', '01.01.2023', 'Kunde', '123456', 'Rechnung', '202210001', 'Sehr', 'geehrte', 'Frau', 'Beispiel', ',', 'nachfolgend', 'berechnen', 'wir', 'Ihnen', 'wie', 'vorab', 'besprochen', ':', 'Rechnung', '202210001', 'Das', 'Rechnungsdatum', 'entspricht', 'dem', 'Leistungsdatum', 'Pos', 'Art-Nr', '.'], ['Bezeichnung', 'Menge', 'Einzelpreis', 'Betrag', '1', '1234', 'Unkraut', 'entfernt', 'und', 'Rase', 'gemäht', '4,5', 'Std', '.'], ['20,00', '90,00', '€', '2', '5678', 'Weiterberechnung', 'Reinigungsmittel', '1', '17,00', '17,00', '€', 'Nettobetrag', '107,00', '€', 'Umsatzsteuer', '19', '%', '20,33', '€', 'Rechnungsbetrag', '127,33', '€', 'Vielen', 'Dank', 'für', 'Ihren', 'Auftrag', '!'], ['Bitte', 'begleichen', 'Sie', 'den', 'offenen', 'Betrag', 'bis', 'zum', '01.07.2023', 'an', 'die', 'unten', 'aufgeführte', 'Bankverbindung', '.'], ['Mit', 'freundlichen', 'Grüßen', 'Max', 'Mustermann', 'Zahlungsempfänger', 'Max', 'Mustermann', 'Bankverbindung', 'Deutsche', 'Bank', 'AG', 'BIC', 'XXX12345', ',', 'IBAN', 'DE12387654321']]\n"
          ]
        },
        {
          "output_type": "execute_result",
          "data": {
            "text/plain": [
              "[None, None, None]"
            ]
          },
          "metadata": {},
          "execution_count": 20
        }
      ]
    },
    {
      "cell_type": "code",
      "source": [
        "prev_examples = []\n",
        "for i in range(4):\n",
        "  prev_examples.append('prompt\\n-----------\\n'+str(preprocessed_text[i])+'\\n-----------\\n\\n'+'response\\n-----------\\n'+relationships[i]+'\\n-----------')"
      ],
      "metadata": {
        "id": "RNKpPVP4dRa3"
      },
      "execution_count": null,
      "outputs": []
    },
    {
      "cell_type": "code",
      "source": [
        "print(prev_examples)"
      ],
      "metadata": {
        "colab": {
          "base_uri": "https://localhost:8080/"
        },
        "id": "7h5RnsMLfdNI",
        "outputId": "c821f561-a5ea-4d08-8e84-d4b05acba5e3"
      },
      "execution_count": null,
      "outputs": [
        {
          "output_type": "stream",
          "name": "stdout",
          "text": [
            "[\"prompt\\n-----------\\n[['[', 'Ihr', 'Logo', ']', 'Musterfirma', '—-', 'Musterstraße', '23', '—', '12345', ',', 'Musterhausen', 'Gutschriftsempfänger', 'Straße', ',', 'Hausnummer', 'PLZ', ',', 'Ort', 'Musterfirma', 'AG', 'Musterstraße', ',', '23', '12345', ',', 'Musterhausen', 'Datum', ':', '01.03.2019', 'Gutschrift', 'Nr', '.'], [':', '2019-1004', 'Ihre', 'UmSt', '.'], ['ID', ':', 'DE123456789', 'Gutschriftssdatum', 'entspricht', 'Liefer-/Leistungsdatum', 'Gutschrift', 'Sehr', 'geehrter', 'Herr', 'Schmidt', ',', 'gemäß', 'unserer', 'Vereinbarung', 'schreiben', 'wir', 'Ihnen', 'folgende', 'Leistungen', 'gut', ':', 'Position', 'Anzahl', 'Einheit', 'Bezeichnung', 'Einzelpreis', 'Gesamtpreis', '1', '5', 'Stück', 'Musterleistung', '3,00', '€', '15,00', '€', '2', '3', 'Stück', 'Musterleistung', '5,00', '€', '15,00', '€', 'Nettopreis', '30,00', '€', 'Zzgl', '.'], ['19', '%', 'USt', '.'], ['5,70€', 'Gutschriftbetrag', '35,70', '€', 'Wir', 'überweisen', 'Ihnen', 'den', 'Gutschriftbetrag', 'in', 'den', 'nächsten', 'Tagen', 'auf', 'Ihr', 'Konto', '.'], ['Mit', 'freundlichen', 'Grüßen', 'Max', 'Mustermann', 'Musterfirma', 'GmbH', 'Kreditinstitut', ':', 'Commerzbank', 'USt-ID', ':', 'DE24324567', 'Musterstraße', ',', '23', 'IBAN', ':', 'DE3423', '4562', '3435', '6765', 'HRB', ':', '1234567B', '12345', ',', 'Musterhausen', 'BIC', ':', 'COBADEFFXXX', 'Amtsgericht', ':', 'Charlottenburg', 'Tel', ':', '+40', '(', '0', ')', '30', '12345678', 'Kto', '.'], ['Inh', '.'], [':', 'Max', 'Mustermann', 'Geschäftsführer', ':', 'Max', 'Mustermann', 'E-Mail', ':', 'info', '@', 'muster.de', 'Webseite', ':', 'www.firma.de']]\\n-----------\\n\\nresponse\\n-----------\\nThe text provides details about Musterfirma, including its location, VAT identification number, credit note number and date, and information about the recipient of the credit note, Mr. Schmidt. Musterfirma has a contract with Mr. Schmidt and is issuing a credit for specific services, with a net price of 30.00€ and a total credit amount of 35.70€. This credit will be transferred to Musterfirma's account, and Musterfirma is owned by Max Mustermann, who is also the managing director. The company's bank is Commerzbank and they are registered with the Amtsgericht Charlottenburg. Musterfirma's contact information, including phone number, email, and website, is also provided.\\n-----------\", \"prompt\\n-----------\\n[['06/10/2021', '.'], ['LS353348', ')', 'kmey', 'Sample', 'Invoice', 'Billing', 'Information', 'Shipping', 'Information', 'Company', 'Name', 'Name', 'Donec', 'odio', 'Corrie', 'Gapper', 'Jennica', 'Castlake', 'Address', 'Address', '84746', 'Buhler', 'St', ',', '32073', 'Brow', '12232', 'Gina', 'Way', ',', '1', 'Main', 'Par', '.'], ['.'], ['Greenville', ',', 'So', ',', '29605', 'Cineinnati', ',', 'Oh', ',', '45203', 'Phone', 'Number', '(', '123', ')', '123-1232', 'Email', 'sgoodered2', '@', 'tiny.cc', 'Description', 'Quantity', 'Unit', 'Price', 'Total', 'Product/Service', '1', 'Sink', '2', '100', '5200', 'Product/Service', '2', 'Nest', 'Smart', 'Filter', '1', '150', '5150', 'Product/Service', '3', 'Labor', 'Fee', '1', '50', '$', '50', 'Product/Service', '4', 'Service', 'Fee', '1', '25', '$', '25', 'Total', ':', '1409']]\\n-----------\\n\\nresponse\\n-----------\\n75\\n\\nThe text describes a sample invoice with a date of 06/10/2021. The invoice is for LS353348 and includes billing and shipping information for the company Donec odio and individuals Corrie Gapper, Jennica Castlake, and Gina Way. The company is located at 84746 Buhler St, Brow 12232, in Greenville, So 29605 and Cineinnati, Oh 45203 with a phone number of (123)123-1232 and an email address of sgoodered2@tiny.cc. The invoice includes three products/services (Sink, Nest Smart Filter, and Labor Fee), with quantities, unit prices, and total cost listed. The total cost of the invoice is $1409.75.\\n-----------\", 'prompt\\n-----------\\n[[\\'Firmenlogo\\', \\'Max\\', \\'Mustermann\\', \\'-\\', \\'Musterstr\\', \\'.\\'], [\\'1\\', \\'-\\', \\'41321\\', \\'Musterstadt\\', \\'Frau\\', \\'Britta\\', \\'Beispiel\\', \\'Beispielstr\\', \\'.\\'], [\\'27\\', \\'54657\\', \\'Beispielstadt\\', \\'Deutschland\\', \\'So\\', \\'erreichen\\', \\'Sie\\', \\'uns\\', \\'Internet\\', \\'www.mustermann.de\\', \\'E-Mail\\', \\'max\\', \\'@\\', \\'muster.de\\', \\'Telefon\\', \\'01234/987654-0\\', \\'Telefax\\', \\'01234/987654-1\\', \\'Mobil\\', \\'01234/987654-2\\', \\'Steuer-Nr\\', \\'.\\'], [\\'122/5432/1234\\', \\'USt-IDNr\\', \\'.\\'], [\\'DE123456789\\', \\'Datum\\', \\'01.01.2023\\', \\'Kunde\\', \\'123456\\', \\'Rechnung\\', \\'202210001\\', \\'Sehr\\', \\'geehrte\\', \\'Frau\\', \\'Beispiel\\', \\',\\', \\'nachfolgend\\', \\'berechnen\\', \\'wir\\', \\'Ihnen\\', \\'wie\\', \\'vorab\\', \\'besprochen\\', \\':\\', \\'Rechnung\\', \\'202210001\\', \\'Das\\', \\'Rechnungsdatum\\', \\'entspricht\\', \\'dem\\', \\'Leistungsdatum\\', \\'Pos\\', \\'Art-Nr\\', \\'.\\'], [\\'Bezeichnung\\', \\'Menge\\', \\'Einzelpreis\\', \\'Betrag\\', \\'1\\', \\'1234\\', \\'Unkraut\\', \\'entfernt\\', \\'und\\', \\'Rase\\', \\'gemäht\\', \\'4,5\\', \\'Std\\', \\'.\\'], [\\'20,00\\', \\'90,00\\', \\'€\\', \\'2\\', \\'5678\\', \\'Weiterberechnung\\', \\'Reinigungsmittel\\', \\'1\\', \\'17,00\\', \\'17,00\\', \\'€\\', \\'Nettobetrag\\', \\'107,00\\', \\'€\\', \\'Umsatzsteuer\\', \\'19\\', \\'%\\', \\'20,33\\', \\'€\\', \\'Rechnungsbetrag\\', \\'127,33\\', \\'€\\', \\'Vielen\\', \\'Dank\\', \\'für\\', \\'Ihren\\', \\'Auftrag\\', \\'!\\'], [\\'Bitte\\', \\'begleichen\\', \\'Sie\\', \\'den\\', \\'offenen\\', \\'Betrag\\', \\'bis\\', \\'zum\\', \\'01.07.2023\\', \\'an\\', \\'die\\', \\'unten\\', \\'aufgeführte\\', \\'Bankverbindung\\', \\'.\\'], [\\'Mit\\', \\'freundlichen\\', \\'Grüßen\\', \\'Max\\', \\'Mustermann\\', \\'Zahlungsempfänger\\', \\'Max\\', \\'Mustermann\\', \\'Bankverbindung\\', \\'Deutsche\\', \\'Bank\\', \\'AG\\', \\'BIC\\', \\'XXX12345\\', \\',\\', \\'IBAN\\', \\'DE12387654321\\']]\\n-----------\\n\\nresponse\\n-----------\\npayment should be made in euros.\\n\\n\\nMax Mustermann is a person associated with the Firmenlogo, the address Musterstr. 1, 41321 Musterstadt, the website www.mustermann.de, the email address max@muster.de, the phone numbers 01234/987654-0 and 01234/987654-1, and the mobile number 01234/987654-2. He is also associated with the Steuer-Nr. 122/5432/1234 and USt-IDNr. DE123456789. He is also associated with invoice number 202210001, which is connected to the date 01.01.2023 and the customer number 123456. The customer number 123456 is associated with another person, Frau Britta Beispiel, who has the address Beispielstr. 27, 54657 Beispielstadt, Germany. The invoice date matches the date of service and the invoice contains two items: \"Unkraut entfernt und Rasen gemäht\" and \"Weiterberechnung Reinigungsmittel\", which are both associated with article numbers and have a quantity of 1. The first item has a price of 20,00 € and the second item has a price of 17,00 €. The invoice total is 107,00 €, which includes a VAT of 19% (20,33 €). The total amount to be paid is 127,33 €. Max Mustermann is also associated with the payment instructions and bank account information provided for the payment, which is due by 01.07.2023 and should be made to the bank account of Deutsche Bank AG in euros.\\n-----------', \"prompt\\n-----------\\n[['Kraxi', 'GmbH', 'Flugzeugallee', '17', '12345', 'Papierfeld', 'Deutschland', 'Tel', '.'], ['(', '0123', ')', '4567', 'Fax', '(', '0123', ')', '4568', 'Kraxi', 'GmbH', '+', 'Flugzeugallee', '17', '+', '12345', 'Papierfeld', '+', 'Deutschland', 'info', '@', 'kraxi.com', 'www.kraxi.com', 'Papierflieger-Vertriebs-GmbH', 'Helga', 'Musterfrau', 'Rabattstr', '.'], ['25', '34567', 'Osterhausen', 'Deutschland', 'Rechnungsnummer', ':', '2019-03', 'Liefer-', 'und', 'Rechnungsdatum', ':', '8', '.'], ['Mai', '2019', 'Kundennummer', ':', '987-654', 'Ihre', 'Auftragsnummer', ':', 'ABC-123', 'Beträge', 'in', 'EUR', 'Pos', '.'], ['Artikelbeschreibung', 'Menge', 'Preis', 'Betrag', '1', 'Superdrachen', '2', '20,00', '40,00', '2', 'Turbo', 'Flyer', '5', '40,00', '200,00', '3', 'Sturzflug-Geier', '1', '180,00', '180,00', '4', 'Eisvogel', '3', '50,00', '150,00', '5', 'Storch', '10', '20,00', '200,00', '6', 'Adler', '1', '75,00', '75,00', '7', 'Kostenlose', 'Zugabe', '1', '0,00', '0,00', 'Rechnungssumme', 'netto', '845,00', 'zuzüglich', '19', '%', 'MwSt', '.'], ['160,55', 'Rechnungssumme', 'brutto', '1.005,55', 'Zahlbar', 'innerhalb', 'von', '30', 'Tagen', 'netto', 'auf', 'unser', 'Konto', '.'], ['Bitte', 'geben', 'Sie', 'dabei', 'die', 'Rechnungsnummer', 'an', '.'], ['Skontoabzüge', 'werden', 'nicht', 'akzeptiert', '.'], ['Kraxi', 'GmbH', 'Sitz', 'der', 'Gesellschaft', 'USt-IdNr', 'Postbank', 'München', 'GF', 'Paul', 'Kraxi', 'München', 'HRB', '999999', 'DE123456789', 'IBAN', 'DE28700100809999999999']]\\n-----------\\n\\nresponse\\n-----------\\nKraxi GmbH, also known as Papierflieger-Vertriebs-GmbH and owned by Helga Musterfrau, is located in Papierfeld, Deutschland. They can be contacted by Tel or Fax at (0123) 4567 and (0123) 4568. In May 2019, they had a transaction with a customer with the Rechnungsnummer 2019-03 and the Auftragsnummer ABC-123. The customer's address is at Rabattstr. 25 in Osterhausen, Deutschland and their Kundennummer is 987-654. The transaction included 2 Superdrachen, 5 Turbo Flyer, 1 Sturzflug-Geier, H Eisvogel, 10 Storch, 1 Adler, and a free Zugabe. The netto Rechnungssumme is 845,00 and the brutto Rechungssumme is 1.005,55. Payment is due within 30 days and Skontoabzüge are not accepted. Kraxi GmbH's Sitz der Gesellschaft is in München and has a USt-IdNr of DE123456789. They bank with Postbank in München and their CEO is Paul Kraxi. Their HRB number is 999999 and their IBAN is DE28700100809999999999. They cannot accept Skontoabzüge.\\n-----------\"]\n"
          ]
        }
      ]
    },
    {
      "cell_type": "code",
      "source": [
        "prompt = \"A model that takes in text details of document in german(this can be recipt), and responds with a english classification of document(example recipet or certificate) it also translates it and explains in english the response should be in english.\"\n",
        "temperature = .4"
      ],
      "metadata": {
        "id": "CdhJ-xKqVoLi"
      },
      "execution_count": null,
      "outputs": []
    },
    {
      "cell_type": "code",
      "source": [
        "def generate_system_message(prompt):\n",
        "\n",
        "    response = openai.ChatCompletion.create(\n",
        "        model=\"gpt-3.5-turbo-16k\",\n",
        "        messages=[\n",
        "          {\n",
        "            \"role\": \"system\",\n",
        "            \"content\": \"You will be given a high-level description of the model we are training, and from that, you will generate a simple system prompt for that model to use. Remember, you are not generating the system message for data generation -- you are generating the system message to use for inference. A good format to follow is `Given $INPUT_DATA, you will $WHAT_THE_MODEL_SHOULD_DO.`.\\n\\nMake it as concise as possible. Include nothing but the system prompt in your response.\\n\\nFor example, never write: `\\\"$SYSTEM_PROMPT_HERE\\\"`.\\n\\nIt should be like: `$SYSTEM_PROMPT_HERE`.\"\n",
        "          },\n",
        "          {\n",
        "              \"role\": \"user\",\n",
        "              \"content\": prompt.strip(),\n",
        "          }\n",
        "        ],\n",
        "        temperature=temperature,\n",
        "        max_tokens=500,\n",
        "    )\n",
        "\n",
        "    return response.choices[0].message['content']\n",
        "\n",
        "system_message = generate_system_message(prompt)\n",
        "\n",
        "print(f'The system message is: `{system_message}`. Feel free to re-run this cell if you want a better result.')"
      ],
      "metadata": {
        "colab": {
          "base_uri": "https://localhost:8080/"
        },
        "id": "j2GSTW_cVkPC",
        "outputId": "a7d04a6e-27c3-4d44-9a9b-6cb91195cbf8"
      },
      "execution_count": null,
      "outputs": [
        {
          "output_type": "stream",
          "name": "stdout",
          "text": [
            "The system message is: `Given a text document in German, you will classify the document (e.g., receipt or certificate) in English, translate it, and provide an English explanation.`. Feel free to re-run this cell if you want a better result.\n"
          ]
        }
      ]
    },
    {
      "cell_type": "code",
      "source": [
        "import pandas as pd\n",
        "\n",
        "# Initialize lists to store prompts and responses\n",
        "prompts = []\n",
        "responses = []\n",
        "\n",
        "# Parse out prompts and responses from examples\n",
        "for example in prev_examples:\n",
        "  try:\n",
        "    split_example = example.split('-----------')\n",
        "    prompts.append(split_example[1].strip())\n",
        "    responses.append(split_example[3].strip())\n",
        "  except:\n",
        "    pass\n",
        "\n",
        "# Create a DataFrame\n",
        "df = pd.DataFrame({\n",
        "    'prompt': prompts,\n",
        "    'response': responses\n",
        "})\n",
        "\n",
        "# Remove duplicates\n",
        "df = df.drop_duplicates()\n",
        "\n",
        "print('There are ' + str(len(df)) + ' successfully-generated examples. Here are the first few:')\n",
        "\n",
        "df.head()"
      ],
      "metadata": {
        "id": "LYle1mXXVZ2Y",
        "colab": {
          "base_uri": "https://localhost:8080/",
          "height": 192
        },
        "outputId": "1802dffb-c74b-4cdb-db42-4d5b473627c9"
      },
      "execution_count": null,
      "outputs": [
        {
          "output_type": "stream",
          "name": "stdout",
          "text": [
            "There are 4 successfully-generated examples. Here are the first few:\n"
          ]
        },
        {
          "output_type": "execute_result",
          "data": {
            "text/plain": [
              "                                              prompt  \\\n",
              "0  [['[', 'Ihr', 'Logo', ']', 'Musterfirma', '—-'...   \n",
              "1  [['06/10/2021', '.'], ['LS353348', ')', 'kmey'...   \n",
              "2  [['Firmenlogo', 'Max', 'Mustermann', '-', 'Mus...   \n",
              "3  [['Kraxi', 'GmbH', 'Flugzeugallee', '17', '123...   \n",
              "\n",
              "                                            response  \n",
              "0  - Company name: Musterfirma\\n- Address: Muster...  \n",
              "1  \"Billing Information\": {'Date': '06/10/2021', ...  \n",
              "2  {\\n    'Name': 'Max Mustermann',\\n    'Address...  \n",
              "3  1. Entity 1: Kraxi GmbH\\n   Entity 2: Flugzeug...  "
            ],
            "text/html": [
              "\n",
              "  <div id=\"df-004f0a48-5b38-475e-9bdb-2a193ec1bdec\" class=\"colab-df-container\">\n",
              "    <div>\n",
              "<style scoped>\n",
              "    .dataframe tbody tr th:only-of-type {\n",
              "        vertical-align: middle;\n",
              "    }\n",
              "\n",
              "    .dataframe tbody tr th {\n",
              "        vertical-align: top;\n",
              "    }\n",
              "\n",
              "    .dataframe thead th {\n",
              "        text-align: right;\n",
              "    }\n",
              "</style>\n",
              "<table border=\"1\" class=\"dataframe\">\n",
              "  <thead>\n",
              "    <tr style=\"text-align: right;\">\n",
              "      <th></th>\n",
              "      <th>prompt</th>\n",
              "      <th>response</th>\n",
              "    </tr>\n",
              "  </thead>\n",
              "  <tbody>\n",
              "    <tr>\n",
              "      <th>0</th>\n",
              "      <td>[['[', 'Ihr', 'Logo', ']', 'Musterfirma', '—-'...</td>\n",
              "      <td>- Company name: Musterfirma\\n- Address: Muster...</td>\n",
              "    </tr>\n",
              "    <tr>\n",
              "      <th>1</th>\n",
              "      <td>[['06/10/2021', '.'], ['LS353348', ')', 'kmey'...</td>\n",
              "      <td>\"Billing Information\": {'Date': '06/10/2021', ...</td>\n",
              "    </tr>\n",
              "    <tr>\n",
              "      <th>2</th>\n",
              "      <td>[['Firmenlogo', 'Max', 'Mustermann', '-', 'Mus...</td>\n",
              "      <td>{\\n    'Name': 'Max Mustermann',\\n    'Address...</td>\n",
              "    </tr>\n",
              "    <tr>\n",
              "      <th>3</th>\n",
              "      <td>[['Kraxi', 'GmbH', 'Flugzeugallee', '17', '123...</td>\n",
              "      <td>1. Entity 1: Kraxi GmbH\\n   Entity 2: Flugzeug...</td>\n",
              "    </tr>\n",
              "  </tbody>\n",
              "</table>\n",
              "</div>\n",
              "    <div class=\"colab-df-buttons\">\n",
              "\n",
              "  <div class=\"colab-df-container\">\n",
              "    <button class=\"colab-df-convert\" onclick=\"convertToInteractive('df-004f0a48-5b38-475e-9bdb-2a193ec1bdec')\"\n",
              "            title=\"Convert this dataframe to an interactive table.\"\n",
              "            style=\"display:none;\">\n",
              "\n",
              "  <svg xmlns=\"http://www.w3.org/2000/svg\" height=\"24px\" viewBox=\"0 -960 960 960\">\n",
              "    <path d=\"M120-120v-720h720v720H120Zm60-500h600v-160H180v160Zm220 220h160v-160H400v160Zm0 220h160v-160H400v160ZM180-400h160v-160H180v160Zm440 0h160v-160H620v160ZM180-180h160v-160H180v160Zm440 0h160v-160H620v160Z\"/>\n",
              "  </svg>\n",
              "    </button>\n",
              "\n",
              "  <style>\n",
              "    .colab-df-container {\n",
              "      display:flex;\n",
              "      gap: 12px;\n",
              "    }\n",
              "\n",
              "    .colab-df-convert {\n",
              "      background-color: #E8F0FE;\n",
              "      border: none;\n",
              "      border-radius: 50%;\n",
              "      cursor: pointer;\n",
              "      display: none;\n",
              "      fill: #1967D2;\n",
              "      height: 32px;\n",
              "      padding: 0 0 0 0;\n",
              "      width: 32px;\n",
              "    }\n",
              "\n",
              "    .colab-df-convert:hover {\n",
              "      background-color: #E2EBFA;\n",
              "      box-shadow: 0px 1px 2px rgba(60, 64, 67, 0.3), 0px 1px 3px 1px rgba(60, 64, 67, 0.15);\n",
              "      fill: #174EA6;\n",
              "    }\n",
              "\n",
              "    .colab-df-buttons div {\n",
              "      margin-bottom: 4px;\n",
              "    }\n",
              "\n",
              "    [theme=dark] .colab-df-convert {\n",
              "      background-color: #3B4455;\n",
              "      fill: #D2E3FC;\n",
              "    }\n",
              "\n",
              "    [theme=dark] .colab-df-convert:hover {\n",
              "      background-color: #434B5C;\n",
              "      box-shadow: 0px 1px 3px 1px rgba(0, 0, 0, 0.15);\n",
              "      filter: drop-shadow(0px 1px 2px rgba(0, 0, 0, 0.3));\n",
              "      fill: #FFFFFF;\n",
              "    }\n",
              "  </style>\n",
              "\n",
              "    <script>\n",
              "      const buttonEl =\n",
              "        document.querySelector('#df-004f0a48-5b38-475e-9bdb-2a193ec1bdec button.colab-df-convert');\n",
              "      buttonEl.style.display =\n",
              "        google.colab.kernel.accessAllowed ? 'block' : 'none';\n",
              "\n",
              "      async function convertToInteractive(key) {\n",
              "        const element = document.querySelector('#df-004f0a48-5b38-475e-9bdb-2a193ec1bdec');\n",
              "        const dataTable =\n",
              "          await google.colab.kernel.invokeFunction('convertToInteractive',\n",
              "                                                    [key], {});\n",
              "        if (!dataTable) return;\n",
              "\n",
              "        const docLinkHtml = 'Like what you see? Visit the ' +\n",
              "          '<a target=\"_blank\" href=https://colab.research.google.com/notebooks/data_table.ipynb>data table notebook</a>'\n",
              "          + ' to learn more about interactive tables.';\n",
              "        element.innerHTML = '';\n",
              "        dataTable['output_type'] = 'display_data';\n",
              "        await google.colab.output.renderOutput(dataTable, element);\n",
              "        const docLink = document.createElement('div');\n",
              "        docLink.innerHTML = docLinkHtml;\n",
              "        element.appendChild(docLink);\n",
              "      }\n",
              "    </script>\n",
              "  </div>\n",
              "\n",
              "\n",
              "<div id=\"df-afa93725-6db0-4e63-bb5d-a87c4a68fffa\">\n",
              "  <button class=\"colab-df-quickchart\" onclick=\"quickchart('df-afa93725-6db0-4e63-bb5d-a87c4a68fffa')\"\n",
              "            title=\"Suggest charts\"\n",
              "            style=\"display:none;\">\n",
              "\n",
              "<svg xmlns=\"http://www.w3.org/2000/svg\" height=\"24px\"viewBox=\"0 0 24 24\"\n",
              "     width=\"24px\">\n",
              "    <g>\n",
              "        <path d=\"M19 3H5c-1.1 0-2 .9-2 2v14c0 1.1.9 2 2 2h14c1.1 0 2-.9 2-2V5c0-1.1-.9-2-2-2zM9 17H7v-7h2v7zm4 0h-2V7h2v10zm4 0h-2v-4h2v4z\"/>\n",
              "    </g>\n",
              "</svg>\n",
              "  </button>\n",
              "\n",
              "<style>\n",
              "  .colab-df-quickchart {\n",
              "      --bg-color: #E8F0FE;\n",
              "      --fill-color: #1967D2;\n",
              "      --hover-bg-color: #E2EBFA;\n",
              "      --hover-fill-color: #174EA6;\n",
              "      --disabled-fill-color: #AAA;\n",
              "      --disabled-bg-color: #DDD;\n",
              "  }\n",
              "\n",
              "  [theme=dark] .colab-df-quickchart {\n",
              "      --bg-color: #3B4455;\n",
              "      --fill-color: #D2E3FC;\n",
              "      --hover-bg-color: #434B5C;\n",
              "      --hover-fill-color: #FFFFFF;\n",
              "      --disabled-bg-color: #3B4455;\n",
              "      --disabled-fill-color: #666;\n",
              "  }\n",
              "\n",
              "  .colab-df-quickchart {\n",
              "    background-color: var(--bg-color);\n",
              "    border: none;\n",
              "    border-radius: 50%;\n",
              "    cursor: pointer;\n",
              "    display: none;\n",
              "    fill: var(--fill-color);\n",
              "    height: 32px;\n",
              "    padding: 0;\n",
              "    width: 32px;\n",
              "  }\n",
              "\n",
              "  .colab-df-quickchart:hover {\n",
              "    background-color: var(--hover-bg-color);\n",
              "    box-shadow: 0 1px 2px rgba(60, 64, 67, 0.3), 0 1px 3px 1px rgba(60, 64, 67, 0.15);\n",
              "    fill: var(--button-hover-fill-color);\n",
              "  }\n",
              "\n",
              "  .colab-df-quickchart-complete:disabled,\n",
              "  .colab-df-quickchart-complete:disabled:hover {\n",
              "    background-color: var(--disabled-bg-color);\n",
              "    fill: var(--disabled-fill-color);\n",
              "    box-shadow: none;\n",
              "  }\n",
              "\n",
              "  .colab-df-spinner {\n",
              "    border: 2px solid var(--fill-color);\n",
              "    border-color: transparent;\n",
              "    border-bottom-color: var(--fill-color);\n",
              "    animation:\n",
              "      spin 1s steps(1) infinite;\n",
              "  }\n",
              "\n",
              "  @keyframes spin {\n",
              "    0% {\n",
              "      border-color: transparent;\n",
              "      border-bottom-color: var(--fill-color);\n",
              "      border-left-color: var(--fill-color);\n",
              "    }\n",
              "    20% {\n",
              "      border-color: transparent;\n",
              "      border-left-color: var(--fill-color);\n",
              "      border-top-color: var(--fill-color);\n",
              "    }\n",
              "    30% {\n",
              "      border-color: transparent;\n",
              "      border-left-color: var(--fill-color);\n",
              "      border-top-color: var(--fill-color);\n",
              "      border-right-color: var(--fill-color);\n",
              "    }\n",
              "    40% {\n",
              "      border-color: transparent;\n",
              "      border-right-color: var(--fill-color);\n",
              "      border-top-color: var(--fill-color);\n",
              "    }\n",
              "    60% {\n",
              "      border-color: transparent;\n",
              "      border-right-color: var(--fill-color);\n",
              "    }\n",
              "    80% {\n",
              "      border-color: transparent;\n",
              "      border-right-color: var(--fill-color);\n",
              "      border-bottom-color: var(--fill-color);\n",
              "    }\n",
              "    90% {\n",
              "      border-color: transparent;\n",
              "      border-bottom-color: var(--fill-color);\n",
              "    }\n",
              "  }\n",
              "</style>\n",
              "\n",
              "  <script>\n",
              "    async function quickchart(key) {\n",
              "      const quickchartButtonEl =\n",
              "        document.querySelector('#' + key + ' button');\n",
              "      quickchartButtonEl.disabled = true;  // To prevent multiple clicks.\n",
              "      quickchartButtonEl.classList.add('colab-df-spinner');\n",
              "      try {\n",
              "        const charts = await google.colab.kernel.invokeFunction(\n",
              "            'suggestCharts', [key], {});\n",
              "      } catch (error) {\n",
              "        console.error('Error during call to suggestCharts:', error);\n",
              "      }\n",
              "      quickchartButtonEl.classList.remove('colab-df-spinner');\n",
              "      quickchartButtonEl.classList.add('colab-df-quickchart-complete');\n",
              "    }\n",
              "    (() => {\n",
              "      let quickchartButtonEl =\n",
              "        document.querySelector('#df-afa93725-6db0-4e63-bb5d-a87c4a68fffa button');\n",
              "      quickchartButtonEl.style.display =\n",
              "        google.colab.kernel.accessAllowed ? 'block' : 'none';\n",
              "    })();\n",
              "  </script>\n",
              "</div>\n",
              "\n",
              "    </div>\n",
              "  </div>\n"
            ],
            "application/vnd.google.colaboratory.intrinsic+json": {
              "type": "dataframe",
              "variable_name": "df",
              "summary": "{\n  \"name\": \"df\",\n  \"rows\": 4,\n  \"fields\": [\n    {\n      \"column\": \"prompt\",\n      \"properties\": {\n        \"dtype\": \"string\",\n        \"num_unique_values\": 4,\n        \"samples\": [\n          \"[['06/10/2021', '.'], ['LS353348', ')', 'kmey', 'Sample', 'Invoice', 'Billing', 'Information', 'Shipping', 'Information', 'Company', 'Name', 'Name', 'Donec', 'odio', 'Corrie', 'Gapper', 'Jennica', 'Castlake', 'Address', 'Address', '84746', 'Buhler', 'St', ',', '32073', 'Brow', '12232', 'Gina', 'Way', ',', '1', 'Main', 'Par', '.'], ['.'], ['Greenville', ',', 'So', ',', '29605', 'Cineinnati', ',', 'Oh', ',', '45203', 'Phone', 'Number', '(', '123', ')', '123-1232', 'Email', 'sgoodered2', '@', 'tiny.cc', 'Description', 'Quantity', 'Unit', 'Price', 'Total', 'Product/Service', '1', 'Sink', '2', '100', '5200', 'Product/Service', '2', 'Nest', 'Smart', 'Filter', '1', '150', '5150', 'Product/Service', '3', 'Labor', 'Fee', '1', '50', '$', '50', 'Product/Service', '4', 'Service', 'Fee', '1', '25', '$', '25', 'Total', ':', '1409']]\",\n          \"[['Kraxi', 'GmbH', 'Flugzeugallee', '17', '12345', 'Papierfeld', 'Deutschland', 'Tel', '.'], ['(', '0123', ')', '4567', 'Fax', '(', '0123', ')', '4568', 'Kraxi', 'GmbH', '+', 'Flugzeugallee', '17', '+', '12345', 'Papierfeld', '+', 'Deutschland', 'info', '@', 'kraxi.com', 'www.kraxi.com', 'Papierflieger-Vertriebs-GmbH', 'Helga', 'Musterfrau', 'Rabattstr', '.'], ['25', '34567', 'Osterhausen', 'Deutschland', 'Rechnungsnummer', ':', '2019-03', 'Liefer-', 'und', 'Rechnungsdatum', ':', '8', '.'], ['Mai', '2019', 'Kundennummer', ':', '987-654', 'Ihre', 'Auftragsnummer', ':', 'ABC-123', 'Betr\\u00e4ge', 'in', 'EUR', 'Pos', '.'], ['Artikelbeschreibung', 'Menge', 'Preis', 'Betrag', '1', 'Superdrachen', '2', '20,00', '40,00', '2', 'Turbo', 'Flyer', '5', '40,00', '200,00', '3', 'Sturzflug-Geier', '1', '180,00', '180,00', '4', 'Eisvogel', '3', '50,00', '150,00', '5', 'Storch', '10', '20,00', '200,00', '6', 'Adler', '1', '75,00', '75,00', '7', 'Kostenlose', 'Zugabe', '1', '0,00', '0,00', 'Rechnungssumme', 'netto', '845,00', 'zuz\\u00fcglich', '19', '%', 'MwSt', '.'], ['160,55', 'Rechnungssumme', 'brutto', '1.005,55', 'Zahlbar', 'innerhalb', 'von', '30', 'Tagen', 'netto', 'auf', 'unser', 'Konto', '.'], ['Bitte', 'geben', 'Sie', 'dabei', 'die', 'Rechnungsnummer', 'an', '.'], ['Skontoabz\\u00fcge', 'werden', 'nicht', 'akzeptiert', '.'], ['Kraxi', 'GmbH', 'Sitz', 'der', 'Gesellschaft', 'USt-IdNr', 'Postbank', 'M\\u00fcnchen', 'GF', 'Paul', 'Kraxi', 'M\\u00fcnchen', 'HRB', '999999', 'DE123456789', 'IBAN', 'DE28700100809999999999']]\",\n          \"[['[', 'Ihr', 'Logo', ']', 'Musterfirma', '\\u2014-', 'Musterstra\\u00dfe', '23', '\\u2014', '12345', ',', 'Musterhausen', 'Gutschriftsempf\\u00e4nger', 'Stra\\u00dfe', ',', 'Hausnummer', 'PLZ', ',', 'Ort', 'Musterfirma', 'AG', 'Musterstra\\u00dfe', ',', '23', '12345', ',', 'Musterhausen', 'Datum', ':', '01.03.2019', 'Gutschrift', 'Nr', '.'], [':', '2019-1004', 'Ihre', 'UmSt', '.'], ['ID', ':', 'DE123456789', 'Gutschriftssdatum', 'entspricht', 'Liefer-/Leistungsdatum', 'Gutschrift', 'Sehr', 'geehrter', 'Herr', 'Schmidt', ',', 'gem\\u00e4\\u00df', 'unserer', 'Vereinbarung', 'schreiben', 'wir', 'Ihnen', 'folgende', 'Leistungen', 'gut', ':', 'Position', 'Anzahl', 'Einheit', 'Bezeichnung', 'Einzelpreis', 'Gesamtpreis', '1', '5', 'St\\u00fcck', 'Musterleistung', '3,00', '\\u20ac', '15,00', '\\u20ac', '2', '3', 'St\\u00fcck', 'Musterleistung', '5,00', '\\u20ac', '15,00', '\\u20ac', 'Nettopreis', '30,00', '\\u20ac', 'Zzgl', '.'], ['19', '%', 'USt', '.'], ['5,70\\u20ac', 'Gutschriftbetrag', '35,70', '\\u20ac', 'Wir', '\\u00fcberweisen', 'Ihnen', 'den', 'Gutschriftbetrag', 'in', 'den', 'n\\u00e4chsten', 'Tagen', 'auf', 'Ihr', 'Konto', '.'], ['Mit', 'freundlichen', 'Gr\\u00fc\\u00dfen', 'Max', 'Mustermann', 'Musterfirma', 'GmbH', 'Kreditinstitut', ':', 'Commerzbank', 'USt-ID', ':', 'DE24324567', 'Musterstra\\u00dfe', ',', '23', 'IBAN', ':', 'DE3423', '4562', '3435', '6765', 'HRB', ':', '1234567B', '12345', ',', 'Musterhausen', 'BIC', ':', 'COBADEFFXXX', 'Amtsgericht', ':', 'Charlottenburg', 'Tel', ':', '+40', '(', '0', ')', '30', '12345678', 'Kto', '.'], ['Inh', '.'], [':', 'Max', 'Mustermann', 'Gesch\\u00e4ftsf\\u00fchrer', ':', 'Max', 'Mustermann', 'E-Mail', ':', 'info', '@', 'muster.de', 'Webseite', ':', 'www.firma.de']]\"\n        ],\n        \"semantic_type\": \"\",\n        \"description\": \"\"\n      }\n    },\n    {\n      \"column\": \"response\",\n      \"properties\": {\n        \"dtype\": \"string\",\n        \"num_unique_values\": 4,\n        \"samples\": [\n          \"\\\"Billing Information\\\": {'Date': '06/10/2021', 'Invoice Number': 'LS353348', 'Customer Name': 'Donec odio', 'Address': '84746 Buhler St, 32073 Brow 12232 Gina Way, 1 Main Par, Greenville, So, 29605 Cineinnati, Oh, 45203', 'Phone Number': '(123) 123-1232', 'Email': 'sgoodered2@tiny.cc', 'Description': 'Sink, Nest Smart Filter, Labor Fee, Service Fee'}\\n\\\"Shipping Information\\\": {'Name': 'Corrie Gapper Jennica Castlake', 'Address': '84746 Buhler St, 32073 Brow 12232 Gina Way, 1 Main Par, Greenville, So, 29605 Cineinnati, Oh, 45203'}\\n\\\"Company Name\\\": 'kmey'\\n\\\"Products/Services\\\": {'1': {'Name': 'Sink', 'Quantity': '1', 'Unit Price': '100', 'Total Price': '$100'}, \\n                       '2': {'Name': 'Nest Smart Filter', 'Quantity': '2', 'Unit Price': '150', 'Total Price': '$300'}, \\n                       '3': {'Name': 'Labor Fee', 'Quantity': '1', 'Unit Price': '50', 'Total Price': '$50'}, \\n                       '4': {'Name': 'Service Fee', 'Quantity': '1', 'Unit Price': '25', 'Total Price': '$25'}\\n}\\n\\\"Total\\\": '$1409'\",\n          \"1. Entity 1: Kraxi GmbH\\n   Entity 2: Flugzeugallee 17\\n   Entity 3: 12345 Papierfeld, Deutschland\\n   Relation: Address\\n\\n2. Entity 1: Kraxi GmbH\\n   Entity 2: Tel. (0123) 4567\\n   Relation: Phone Number\\n\\n3. Entity 1: Kraxi GmbH\\n   Entity 2: Fax (0123) 4568\\n   Relation: Fax Number\\n\\n4. Entity 1: Kraxi GmbH\\n   Entity 2: info@kraxi.com\\n   Entity 3: www.kraxi.com\\n   Relation: Email and Website\\n\\n5. Entity 1: Papierflieger-Vertriebs-GmbH\\n   Entity 2: Helga Musterfrau\\n   Entity 3: Rabattstr.25 34567 Osterhausen, Deutschland\\n   Relation: Company name, Contact person, Address\\n\\n6. Entity 1: Rechnungsnummer\\n   Entity 2: 2019-03\\n   Entity 3: Liefer- und Rechnungsdatum\\n   Relation: Invoice number, Date of invoice and delivery\\n\\n7. Entity 1: Kundennummer\\n   Entity 2: 987-654\\n   Relation: Customer number\\n\\n8. Entity 1: Auftragsnummer\\n   Entity 2: ABC-123\\n   Relation: Order number\\n\\n9. Entity 1: Pos.\\n   Entity 2: Artikelbeschreibung\\n   Entity 3: Menge\\n   Relation: Item position, Item description, Quantity\\n\\n10. Entity 1: Pos.\\n   Entity 2: Preis\\n   Relation: Item position, Item price\\n\\n11. Entity 1: Pos.\\n   Entity 2: Betrag\\n   Relation: Item position, Item amount\\n\\n12. Entity 1: Rechnungssumme\\n   Entity 2: Netto 845,00 \\u20ac\\n   Entity 3: zuz\\u00fcglich 19% MwSt.\\n   Relation: Subtotal, Net amount, Tax rate\\n\\n13. Entity 1: Rechnungssumme\\n   Entity 2: Brutto 1005,55 \\u20ac\\n   Relation: Total amount\\n\\n14. Entity 1: Skontoabz\\u00fcge\\n   Entity 2: Nicht akzeptiert\",\n          \"- Company name: Musterfirma\\n- Address: Musterstra\\u00dfe 23, 12345 Musterhausen\\n- Invoice number: 2019-1004\\n- VAT number: DE123456789\\n- Invoice date: 01.03.2019\\n- Customer: Herr Schmidt\\n- Payment method: bank transfer\\n- Account information: Konto\\n- Amount: 35,70 \\u20ac\\n- Delivery date: 01.03.2019\\n- Item 1: Musterleistung\\n- Quantity: 5\\n- Unit price: 3,00 \\u20ac\\n- Total price: 15,00 \\u20ac\\n- Item 2: Musterleistung\\n- Quantity: 3\\n- Unit price: 5,00 \\u20ac\\n- Total price: 15,00 \\u20ac\\n- Net price: 30,00 \\u20ac\\n- VAT rate: 19%\\n- VAT amount: 5,70 \\u20ac\\n- Bank: Commerzbank\\n- VAT ID: DE24324567\\n- IBAN: DE3423 4562 3435 6765\\n- Register court: Amtsgericht Charlottenburg\\n- Company email: info@muster.de\\n- Website: www.firma.de\\n- Owner/Managing Director: Max Mustermann\\n- Phone number: +40 (0) 30 12345678\\n- Title: Inhaber/Gesch\\u00e4ftsf\\u00fchrer\\n- Contact email: info@muster.de\\n- Contact website: www.firma.de\"\n        ],\n        \"semantic_type\": \"\",\n        \"description\": \"\"\n      }\n    }\n  ]\n}"
            }
          },
          "metadata": {},
          "execution_count": 24
        }
      ]
    },
    {
      "cell_type": "code",
      "source": [
        "# Split the data into train and test sets, with 90% in the train set\n",
        "train_df = df.sample(frac=0.9, random_state=42)\n",
        "test_df = df.drop(train_df.index)\n",
        "\n",
        "# Save the dataframes to .jsonl files\n",
        "train_df.to_json('train.jsonl', orient='records', lines=True)\n",
        "test_df.to_json('test.jsonl', orient='records', lines=True)"
      ],
      "metadata": {
        "id": "j22TP54fVsTD"
      },
      "execution_count": null,
      "outputs": []
    },
    {
      "cell_type": "code",
      "source": [
        "system_message = \"Given a text document in German, you will classify the document (e.g., receipt or certificate) in English, translate it, and provide an English explanation.\""
      ],
      "metadata": {
        "id": "8hNeCNYYByUA"
      },
      "execution_count": null,
      "outputs": []
    },
    {
      "cell_type": "code",
      "source": [
        "!pip install -q accelerate==0.21.0 peft==0.4.0 bitsandbytes==0.40.2 transformers==4.31.0 trl==0.4.7\n",
        "\n",
        "import os\n",
        "import torch\n",
        "from datasets import load_dataset\n",
        "from transformers import (\n",
        "    AutoModelForCausalLM,\n",
        "    AutoTokenizer,\n",
        "    BitsAndBytesConfig,\n",
        "    HfArgumentParser,\n",
        "    TrainingArguments,\n",
        "    pipeline,\n",
        "    logging,\n",
        ")\n",
        "from peft import LoraConfig, PeftModel\n",
        "from trl import SFTTrainer"
      ],
      "metadata": {
        "id": "rgcuh2qnVuLV"
      },
      "execution_count": null,
      "outputs": []
    },
    {
      "cell_type": "code",
      "source": [
        "model_name = \"NousResearch/llama-2-7b-chat-hf\"  # or \"meta-llama/Llama-2-7b-chat-hf\" with Hugging Face key\n",
        "dataset_name = \"/content/drive/MyDrive/train.jsonl\"\n",
        "new_model = \"llama-2-7b-custom\"\n",
        "lora_r = 64\n",
        "lora_alpha = 16\n",
        "lora_dropout = 0.1\n",
        "use_4bit = True\n",
        "bnb_4bit_compute_dtype = \"float16\"\n",
        "bnb_4bit_quant_type = \"nf4\"\n",
        "use_nested_quant = False\n",
        "output_dir = \"./results\"\n",
        "num_train_epochs = 1\n",
        "fp16 = False\n",
        "bf16 = False\n",
        "per_device_train_batch_size = 4\n",
        "per_device_eval_batch_size = 4\n",
        "gradient_accumulation_steps = 1\n",
        "gradient_checkpointing = True\n",
        "max_grad_norm = 0.3\n",
        "learning_rate = 2e-4\n",
        "weight_decay = 0.001\n",
        "optim = \"paged_adamw_32bit\"\n",
        "lr_scheduler_type = \"constant\"\n",
        "max_steps = -1\n",
        "warmup_ratio = 0.03\n",
        "group_by_length = True\n",
        "save_steps = 25\n",
        "logging_steps = 5\n",
        "max_seq_length = None\n",
        "packing = False\n",
        "device_map = {\"\":0}"
      ],
      "metadata": {
        "id": "B9UO0Mg0Vv-e"
      },
      "execution_count": null,
      "outputs": []
    },
    {
      "cell_type": "code",
      "source": [
        "train_dataset = load_dataset('json', data_files={'train': dataset_name})\n",
        "valid_dataset = load_dataset('json', data_files={'validation': dataset_name})\n",
        "\n",
        "# Preprocess datasets\n",
        "train_dataset_mapped = train_dataset.map(lambda examples: {'text': [f'[INST] <<SYS>>\\n{system_message.strip()}\\n<</SYS>>\\n\\n' + prompt + ' [/INST] ' + response for prompt, response in zip(examples['prompt'], examples['response'])]}, batched=True)\n",
        "valid_dataset_mapped = valid_dataset.map(lambda examples: {'text': [f'[INST] <<SYS>>\\n{system_message.strip()}\\n<</SYS>>\\n\\n' + prompt + ' [/INST] ' + response for prompt, response in zip(examples['prompt'], examples['response'])]}, batched=True)\n",
        "\n",
        "compute_dtype = getattr(torch, bnb_4bit_compute_dtype)\n",
        "bnb_config = BitsAndBytesConfig(\n",
        "    load_in_4bit=use_4bit,\n",
        "    bnb_4bit_quant_type=bnb_4bit_quant_type,\n",
        "    bnb_4bit_compute_dtype=compute_dtype,\n",
        "    bnb_4bit_use_double_quant=use_nested_quant,\n",
        ")\n",
        "\n",
        "model = AutoModelForCausalLM.from_pretrained(\n",
        "    model_name,\n",
        "    quantization_config=bnb_config,\n",
        "    device_map=device_map\n",
        ")\n",
        "model.config.use_cache = False\n",
        "model.config.pretraining_tp = 1\n",
        "tokenizer = AutoTokenizer.from_pretrained(model_name, trust_remote_code=True)\n",
        "tokenizer.pad_token = tokenizer.eos_token\n",
        "tokenizer.padding_side = \"right\"\n",
        "\n",
        "peft_config = LoraConfig(\n",
        "    lora_alpha=lora_alpha,\n",
        "    lora_dropout=lora_dropout,\n",
        "    r=lora_r,\n",
        "    bias=\"none\",\n",
        "    task_type=\"CAUSAL_LM\",\n",
        ")\n",
        "\n",
        "# Set training parameters\n",
        "training_arguments = TrainingArguments(\n",
        "    output_dir=output_dir,\n",
        "    num_train_epochs=num_train_epochs,\n",
        "    per_device_train_batch_size=per_device_train_batch_size,\n",
        "    per_device_eval_batch_size=per_device_eval_batch_size,\n",
        "    gradient_accumulation_steps=gradient_accumulation_steps,\n",
        "    optim=optim,\n",
        "    save_steps=save_steps,\n",
        "    logging_steps=logging_steps,\n",
        "    learning_rate=learning_rate,\n",
        "    weight_decay=weight_decay,\n",
        "    fp16=fp16,\n",
        "    bf16=bf16,\n",
        "    max_grad_norm=max_grad_norm,\n",
        "    max_steps=max_steps,\n",
        "    warmup_ratio=warmup_ratio,\n",
        "    group_by_length=group_by_length,\n",
        "    lr_scheduler_type=lr_scheduler_type,\n",
        "    report_to=\"all\",\n",
        "    evaluation_strategy=\"steps\",\n",
        "    eval_steps=5  # Evaluate every 5 steps\n",
        ")\n",
        "\n",
        "# Set supervised fine-tuning parameters\n",
        "trainer = SFTTrainer(\n",
        "    model=model,\n",
        "    train_dataset=train_dataset_mapped['train'],\n",
        "    eval_dataset=valid_dataset_mapped['validation'],\n",
        "    peft_config=peft_config,\n",
        "    dataset_text_field=\"text\",\n",
        "    max_seq_length=max_seq_length,\n",
        "    tokenizer=tokenizer,\n",
        "    args=training_arguments,\n",
        "    packing=packing,\n",
        ")\n",
        "\n",
        "# Train the model\n",
        "trainer.train()\n",
        "trainer.model.save_pretrained(new_model)\n",
        "\n",
        "# Test the model\n",
        "logging.set_verbosity(logging.CRITICAL)\n",
        "prompt = f\"[INST] <<SYS>>\\n{system_message}\\n<</SYS>>\\n\\n ich bin harsh . [/INST]\"\n",
        "pipe = pipeline(task=\"text-generation\", model=model, tokenizer=tokenizer, max_length=200)\n",
        "result = pipe(prompt)\n",
        "print(result[0]['generated_text'])"
      ],
      "metadata": {
        "colab": {
          "base_uri": "https://localhost:8080/",
          "height": 613,
          "referenced_widgets": [
            "4688576d134d4401bf4a79a815b4cade",
            "c21f3c7e4b3d4c639e5f579b9987e305",
            "12ca7570686545c09942aa9e0db786c6",
            "26a4f8d05310497e9c00b8e0eb84caaf",
            "64c92421e15b41e7adef9bee66003516",
            "addb5732ec4f423e9ce8775efa69e469",
            "f926b2fda1cb4fc9a601a44627436938",
            "696441d8d5f14af6a90e2a4a0c09b7c8",
            "205803052b2645ac8e9b270942e21b1a",
            "b835ef79228341588750f656d8e760aa",
            "41d0dc09f61c47f6b83a04580757aa98"
          ]
        },
        "id": "GuSB0Cx7VyQX",
        "outputId": "0c4a5089-19b4-473e-c6b3-bf44f5ce03da"
      },
      "execution_count": null,
      "outputs": [
        {
          "output_type": "stream",
          "name": "stderr",
          "text": [
            "/usr/local/lib/python3.10/dist-packages/huggingface_hub/file_download.py:1132: FutureWarning: `resume_download` is deprecated and will be removed in version 1.0.0. Downloads always resume when possible. If you want to force a new download, use `force_download=True`.\n",
            "  warnings.warn(\n",
            "/usr/local/lib/python3.10/dist-packages/huggingface_hub/utils/_token.py:89: UserWarning: \n",
            "The secret `HF_TOKEN` does not exist in your Colab secrets.\n",
            "To authenticate with the Hugging Face Hub, create a token in your settings tab (https://huggingface.co/settings/tokens), set it as secret in your Google Colab and restart your session.\n",
            "You will be able to reuse this secret in all of your notebooks.\n",
            "Please note that authentication is recommended but still optional to access public models or datasets.\n",
            "  warnings.warn(\n"
          ]
        },
        {
          "output_type": "display_data",
          "data": {
            "text/plain": [
              "Loading checkpoint shards:   0%|          | 0/2 [00:00<?, ?it/s]"
            ],
            "application/vnd.jupyter.widget-view+json": {
              "version_major": 2,
              "version_minor": 0,
              "model_id": "4688576d134d4401bf4a79a815b4cade"
            }
          },
          "metadata": {}
        },
        {
          "output_type": "stream",
          "name": "stderr",
          "text": [
            "/usr/local/lib/python3.10/dist-packages/peft/utils/other.py:102: FutureWarning: prepare_model_for_int8_training is deprecated and will be removed in a future version. Use prepare_model_for_kbit_training instead.\n",
            "  warnings.warn(\n",
            "/usr/local/lib/python3.10/dist-packages/trl/trainer/sft_trainer.py:159: UserWarning: You didn't pass a `max_seq_length` argument to the SFTTrainer, this will default to 1024\n",
            "  warnings.warn(\n",
            "You're using a LlamaTokenizerFast tokenizer. Please note that with a fast tokenizer, using the `__call__` method is faster than using a method to encode the text followed by a call to the `pad` method to get a padded encoding.\n",
            "/usr/local/lib/python3.10/dist-packages/torch/utils/checkpoint.py:464: UserWarning: torch.utils.checkpoint: the use_reentrant parameter should be passed explicitly. In version 2.4 we will raise an exception if use_reentrant is not passed. use_reentrant=False is recommended, but if you need to preserve the current default behavior, you can pass use_reentrant=True. Refer to docs for more details on the differences between the two variants.\n",
            "  warnings.warn(\n"
          ]
        },
        {
          "output_type": "display_data",
          "data": {
            "text/plain": [
              "<IPython.core.display.HTML object>"
            ],
            "text/html": [
              "\n",
              "    <div>\n",
              "      \n",
              "      <progress value='1' max='1' style='width:300px; height:20px; vertical-align: middle;'></progress>\n",
              "      [1/1 00:00, Epoch 1/1]\n",
              "    </div>\n",
              "    <table border=\"1\" class=\"dataframe\">\n",
              "  <thead>\n",
              " <tr style=\"text-align: left;\">\n",
              "      <th>Step</th>\n",
              "      <th>Training Loss</th>\n",
              "      <th>Validation Loss</th>\n",
              "    </tr>\n",
              "  </thead>\n",
              "  <tbody>\n",
              "  </tbody>\n",
              "</table><p>"
            ]
          },
          "metadata": {}
        },
        {
          "output_type": "stream",
          "name": "stderr",
          "text": [
            "/usr/local/lib/python3.10/dist-packages/transformers/generation/utils.py:1270: UserWarning: You have modified the pretrained model configuration to control generation. This is a deprecated strategy to control generation and will be removed soon, in a future version. Please use a generation configuration file (see https://huggingface.co/docs/transformers/main_classes/text_generation )\n",
            "  warnings.warn(\n",
            "/usr/local/lib/python3.10/dist-packages/torch/utils/checkpoint.py:91: UserWarning: None of the inputs have requires_grad=True. Gradients will be None\n",
            "  warnings.warn(\n"
          ]
        },
        {
          "output_type": "stream",
          "name": "stdout",
          "text": [
            "[INST] <<SYS>>\n",
            "Given a text document in German, you will classify the document (e.g., receipt or certificate) in English, translate it, and provide an English explanation.\n",
            "<</SYS>>\n",
            "\n",
            " ich bin harsh . [/INST]  Based on the text you provided, I can classify the document as a receipt. Here is the English translation:\n",
            "\n",
            "\"I am harsh\"\n",
            "\n",
            "Explanation: The text \"ich bin harsh\" is a German sentence that translates to \"I am harsh\" in English. It is a simple statement expressing a personal quality or trait.\n"
          ]
        }
      ]
    },
    {
      "cell_type": "code",
      "source": [
        "from transformers import pipeline\n",
        "\n",
        "prompt = f\"[INST] <<SYS>>\\n{system_message}\\n<</SYS>>\\n\\n[['[', 'Ihr', 'Logo', ']', 'Musterfirma', '—-', 'Musterstraße', '23', '—', '12345', ',', 'Musterhausen', 'Gutschriftsempfänger', 'Straße', ',', 'Hausnummer', 'PLZ', ',', 'Ort', 'Musterfirma', 'AG', 'Musterstraße', ',', '23', '12345', ',', 'Musterhausen', 'Datum', ':', '01.03.2019', 'Gutschrift', 'Nr', '.'], [':', '2019-1004', 'Ihre', 'UmSt', '.'], ['ID', ':', 'DE123456789', 'Gutschriftssdatum', 'entspricht', 'Liefer-/Leistungsdatum', 'Gutschrift', 'Sehr', 'geehrter', 'Herr', 'Schmidt', ',', 'gemäß', 'unserer', 'Vereinbarung', 'schreiben', 'wir', 'Ihnen', 'folgende', 'Leistungen', 'gut', ':', 'Position', 'Anzahl', 'Einheit', 'Bezeichnung', 'Einzelpreis', 'Gesamtpreis', '1', '5', 'Stück', 'Musterleistung', '3,00', '€', '15,00', '€', '2', '3', 'Stück', 'Musterleistung', '5,00', '€', '15,00', '€', 'Nettopreis', '30,00', '€', 'Zzgl', '.'], ['19', '%', 'USt', '.'], ['5,70€', 'Gutschriftbetrag', '35,70', '€', 'Wir', 'überweisen', 'Ihnen', 'den', 'Gutschriftbetrag', 'in', 'den', 'nächsten', 'Tagen', 'auf', 'Ihr', 'Konto', '.'], ['Mit', 'freundlichen', 'Grüßen', 'Max', 'Mustermann', 'Musterfirma', 'GmbH', 'Kreditinstitut', ':', 'Commerzbank', 'USt-ID', ':', 'DE24324567', 'Musterstraße', ',', '23', 'IBAN', ':', 'DE3423', '4562', '3435', '6765', 'HRB', ':', '1234567B', '12345', ',', 'Musterhausen', 'BIC', ':', 'COBADEFFXXX', 'Amtsgericht', ':', 'Charlottenburg', 'Tel', ':', '+40', '(', '0', ')', '30', '12345678', 'Kto', '.'], ['Inh', '.'], [':', 'Max', 'Mustermann', 'Geschäftsführer', ':', 'Max', 'Mustermann', 'E-Mail', ':', 'info', '@', 'muster.de', 'Webseite', ':', 'www.firma.de']]. [/INST]\" # replace the command here with something relevant to your task\n",
        "num_new_tokens = 1000  # change to the number of new tokens you want to generate\n",
        "\n",
        "# Count the number of tokens in the prompt\n",
        "num_prompt_tokens = len(tokenizer(prompt)['input_ids'])\n",
        "\n",
        "# Calculate the maximum length for the generation\n",
        "max_length = num_prompt_tokens + num_new_tokens\n",
        "\n",
        "gen = pipeline('text-generation', model=model, tokenizer=tokenizer, max_length=max_length)\n",
        "result = gen(prompt)\n",
        "print(result[0]['generated_text'].replace(prompt, ''))"
      ],
      "metadata": {
        "id": "zQQyD1GrWLiO",
        "colab": {
          "base_uri": "https://localhost:8080/"
        },
        "outputId": "919105d5-8133-438a-e248-42b64da68f35"
      },
      "execution_count": null,
      "outputs": [
        {
          "output_type": "stream",
          "name": "stdout",
          "text": [
            "  Based on the provided text document in German, I can classify it as a receipt or certificate. The document appears to be a Gutschrift, which is a type of invoice or receipt in Germany.\n",
            "\n",
            "The document includes various details such as the recipient's name and address, the date, and the amount of the Gutschrift. It also includes information about the goods or services provided, the prices, and the total amount due.\n",
            "\n",
            "Here is a rough translation of the document into English:\n",
            "\n",
            "\"Dear Sir/Madam,\n",
            "\n",
            "We are pleased to inform you that we have issued a Gutschrift for the following goods/services:\n",
            "\n",
            "* Position: 3 Stück\n",
            "* Anzahl: 5 Stück\n",
            "* Einheit: Musterleistung\n",
            "* Bezeichnung: Musterleistung\n",
            "* Einzelpreis: 3,00 €\n",
            "* Gesamtpreis: 15,00 €\n",
            "* Nettopreis: 30,00 €\n",
            "\n",
            "The Gutschrift amount is 5,70 €. We will transfer the Gutschrift amount to your account in the next few days.\n",
            "\n",
            "Please find attached the Gutschrift for your reference.\n",
            "\n",
            "Sincerely,\n",
            "Max Mustermann\n",
            "Musterfirma GmbH & Co. KG\n",
            "Commerzbank USt-ID: DE24324567\n",
            "Musterstraße 23, 12345 Berlin\n",
            "IBAN: DE342345623456789\n",
            "BIC: COBADEFFXXX\n",
            "Amtsgericht: Charlottenburg\n",
            "Tel.: +40 0 (0) 30 12345678\n",
            "Kto: [Name and address of the recipient]\n",
            "\n",
            "Email: [Max Mustermann's email address]\n",
            "Website: [Musterfirma's website]\n",
            "\n",
            "Please note that this is a rough translation and may not be entirely accurate. The exact translation and interpretation of the document may vary depending on the context and the specific details of the Gutschrift.\"\n",
            "\n",
            "As for the explanation, the document appears to be a Gutschrift issued by a company called Musterfirma GmbH & Co. KG to a recipient. The Gutschrift details the goods or services provided, the prices, and the total amount due, as well as the amount of the Gutschrift and the date of issue. The document also includes the recipient's name and address, as well as contact information for the issuer.\n"
          ]
        }
      ]
    },
    {
      "cell_type": "code",
      "source": [
        "# Function to free GPU memory\n",
        "def free_memory():\n",
        "    import gc\n",
        "    gc.collect()\n",
        "    torch.cuda.empty_cache()\n",
        "free_memory()"
      ],
      "metadata": {
        "id": "0VCaA309WOEQ"
      },
      "execution_count": null,
      "outputs": []
    },
    {
      "cell_type": "code",
      "source": [
        "# Merge and save the fine-tuned model\n",
        "\n",
        "model_path = \"/content/llama-2-7b-custom\"  # change to your preferred path\n",
        "\n",
        "# Reload model in FP16 and merge it with LoRA weights\n",
        "base_model = AutoModelForCausalLM.from_pretrained(\n",
        "    model_name,\n",
        "    low_cpu_mem_usage=True,\n",
        "    return_dict=True,\n",
        "    torch_dtype=torch.float16,\n",
        "    device_map=\"cpu\",\n",
        ")\n",
        "model = PeftModel.from_pretrained(base_model, new_model)\n",
        "model = model.merge_and_unload()\n",
        "\n",
        "# Reload tokenizer to save it\n",
        "tokenizer = AutoTokenizer.from_pretrained(model_name, trust_remote_code=True)\n",
        "tokenizer.pad_token = tokenizer.eos_token\n",
        "tokenizer.padding_side = \"right\"\n",
        "\n",
        "# Save the merged model\n",
        "model.save_pretrained(model_path)\n",
        "tokenizer.save_pretrained(model_path)"
      ],
      "metadata": {
        "id": "EPK69DKNWQs4",
        "colab": {
          "base_uri": "https://localhost:8080/",
          "height": 136,
          "referenced_widgets": [
            "540cc94e59ef4201b99029ffbf08ebe7",
            "5d6290e4db5c4caa9b5d119421bcee4c",
            "4d814a5e5fe9403e80d46e21e4e3debd",
            "5493fafada634e5cab3a750ccc0f2a97",
            "c58d838309134b709d738e0efc4af6f4",
            "a67a08d109cb49c090af8e6309ce236e",
            "0102eeec5cba4b7d98f5da9e6273500d",
            "a3ef57660ed14e2bb2c66a5c2b7733da",
            "c4c469c5830448bdb1a2b4e6967551f0",
            "cb6e78f603be47a194b90a8a80d630dd",
            "91bf07d437e64fb0a2aea6c0543d5961"
          ]
        },
        "outputId": "5618af1b-0260-4eed-b32b-0ba9189d2695"
      },
      "execution_count": null,
      "outputs": [
        {
          "output_type": "display_data",
          "data": {
            "text/plain": [
              "Loading checkpoint shards:   0%|          | 0/2 [00:00<?, ?it/s]"
            ],
            "application/vnd.jupyter.widget-view+json": {
              "version_major": 2,
              "version_minor": 0,
              "model_id": "540cc94e59ef4201b99029ffbf08ebe7"
            }
          },
          "metadata": {}
        },
        {
          "output_type": "execute_result",
          "data": {
            "text/plain": [
              "('/content/llama-2-7b-custom/tokenizer_config.json',\n",
              " '/content/llama-2-7b-custom/special_tokens_map.json',\n",
              " '/content/llama-2-7b-custom/tokenizer.model',\n",
              " '/content/llama-2-7b-custom/added_tokens.json',\n",
              " '/content/llama-2-7b-custom/tokenizer.json')"
            ]
          },
          "metadata": {},
          "execution_count": 12
        }
      ]
    },
    {
      "cell_type": "code",
      "source": [],
      "metadata": {
        "id": "c2MchrYGKmwI"
      },
      "execution_count": null,
      "outputs": []
    }
  ]
}